{
 "cells": [
  {
   "cell_type": "code",
   "execution_count": 123,
   "outputs": [],
   "source": [
    "# Forecasting Snow Depth with Prophet\n"
   ],
   "metadata": {
    "collapsed": false,
    "pycharm": {
     "name": "#%%\n"
    }
   }
  },
  {
   "cell_type": "markdown",
   "metadata": {
    "pycharm": {
     "name": "#%% md\n"
    }
   },
   "source": [
    "## Abstract\n",
    "[Prophet](https://facebook.github.io/prophet/) is a great tool for forecasting time series data based on an additive model where non-linear trends are fitted with yearly, weekly, and daily seasonality, plus holiday effects. Considering climate change, I was wondering if this tool can be used to predict snow depth evolution in the French Alps and particularly in the French ski resorts. Obviously, this is not scientifically significant since weather prediction is a sophisticated task based on the Lorenz equations that govern the weather system but it is clearly fun to play with these data."
   ]
  },
  {
   "cell_type": "markdown",
   "metadata": {
    "pycharm": {
     "name": "#%% md\n"
    }
   },
   "source": [
    "## Data Analysis\n",
    "In France, snow report data of 135 ski resorts are available freely from [Meteo France](https://donneespubliques.meteofrance.fr/?fond=produit&id_produit=94&id_rubrique=32). These data are available as csv files and give several observations (wind direction and strength, air temperature, humidity, snow depths and various parameters for characterizing snow accumulated on the ground) from the different snow sensors every 12 hours. The following map constructed with [Folium](https://python-visualization.github.io/folium) exhibits the locations of the different available snow sensors. Among them, famous ski resorts such as Val d'Isère or l'Alpe d'Huez can be retrieved."
   ]
  },
  {
   "cell_type": "code",
   "execution_count": 124,
   "metadata": {
    "pycharm": {
     "name": "#%%\n"
    }
   },
   "outputs": [
    {
     "data": {
      "text/plain": "<folium.folium.Map at 0x17c137b50>",
      "text/html": "<div style=\"width:100%;\"><div style=\"position:relative;width:100%;height:0;padding-bottom:60%;\"><span style=\"color:#565656\">Make this Notebook Trusted to load map: File -> Trust Notebook</span><iframe srcdoc=\"&lt;!DOCTYPE html&gt;\n&lt;html&gt;\n&lt;head&gt;\n    \n    &lt;meta http-equiv=&quot;content-type&quot; content=&quot;text/html; charset=UTF-8&quot; /&gt;\n    \n        &lt;script&gt;\n            L_NO_TOUCH = false;\n            L_DISABLE_3D = false;\n        &lt;/script&gt;\n    \n    &lt;style&gt;html, body {width: 100%;height: 100%;margin: 0;padding: 0;}&lt;/style&gt;\n    &lt;style&gt;#map {position:absolute;top:0;bottom:0;right:0;left:0;}&lt;/style&gt;\n    &lt;script src=&quot;https://cdn.jsdelivr.net/npm/leaflet@1.6.0/dist/leaflet.js&quot;&gt;&lt;/script&gt;\n    &lt;script src=&quot;https://code.jquery.com/jquery-1.12.4.min.js&quot;&gt;&lt;/script&gt;\n    &lt;script src=&quot;https://maxcdn.bootstrapcdn.com/bootstrap/3.2.0/js/bootstrap.min.js&quot;&gt;&lt;/script&gt;\n    &lt;script src=&quot;https://cdnjs.cloudflare.com/ajax/libs/Leaflet.awesome-markers/2.0.2/leaflet.awesome-markers.js&quot;&gt;&lt;/script&gt;\n    &lt;link rel=&quot;stylesheet&quot; href=&quot;https://cdn.jsdelivr.net/npm/leaflet@1.6.0/dist/leaflet.css&quot;/&gt;\n    &lt;link rel=&quot;stylesheet&quot; href=&quot;https://maxcdn.bootstrapcdn.com/bootstrap/3.2.0/css/bootstrap.min.css&quot;/&gt;\n    &lt;link rel=&quot;stylesheet&quot; href=&quot;https://maxcdn.bootstrapcdn.com/bootstrap/3.2.0/css/bootstrap-theme.min.css&quot;/&gt;\n    &lt;link rel=&quot;stylesheet&quot; href=&quot;https://maxcdn.bootstrapcdn.com/font-awesome/4.6.3/css/font-awesome.min.css&quot;/&gt;\n    &lt;link rel=&quot;stylesheet&quot; href=&quot;https://cdnjs.cloudflare.com/ajax/libs/Leaflet.awesome-markers/2.0.2/leaflet.awesome-markers.css&quot;/&gt;\n    &lt;link rel=&quot;stylesheet&quot; href=&quot;https://cdn.jsdelivr.net/gh/python-visualization/folium/folium/templates/leaflet.awesome.rotate.min.css&quot;/&gt;\n    \n            &lt;meta name=&quot;viewport&quot; content=&quot;width=device-width,\n                initial-scale=1.0, maximum-scale=1.0, user-scalable=no&quot; /&gt;\n            &lt;style&gt;\n                #map_be203cd46f04f3a1c44b752cd4113b67 {\n                    position: relative;\n                    width: 100.0%;\n                    height: 100.0%;\n                    left: 0.0%;\n                    top: 0.0%;\n                }\n            &lt;/style&gt;\n        \n&lt;/head&gt;\n&lt;body&gt;\n    \n    \n            &lt;div class=&quot;folium-map&quot; id=&quot;map_be203cd46f04f3a1c44b752cd4113b67&quot; &gt;&lt;/div&gt;\n        \n&lt;/body&gt;\n&lt;script&gt;\n    \n    \n            var map_be203cd46f04f3a1c44b752cd4113b67 = L.map(\n                &quot;map_be203cd46f04f3a1c44b752cd4113b67&quot;,\n                {\n                    center: [48.856578, 2.351828],\n                    crs: L.CRS.EPSG3857,\n                    zoom: 6,\n                    zoomControl: true,\n                    preferCanvas: false,\n                }\n            );\n\n            \n\n        \n    \n            var tile_layer_dbb06cf9aa9fc5f135c8333081b8dd33 = L.tileLayer(\n                &quot;https://stamen-tiles-{s}.a.ssl.fastly.net/terrain/{z}/{x}/{y}.jpg&quot;,\n                {&quot;attribution&quot;: &quot;Map tiles by \\u003ca href=\\&quot;http://stamen.com\\&quot;\\u003eStamen Design\\u003c/a\\u003e, under \\u003ca href=\\&quot;http://creativecommons.org/licenses/by/3.0\\&quot;\\u003eCC BY 3.0\\u003c/a\\u003e. Data by \\u0026copy; \\u003ca href=\\&quot;http://openstreetmap.org\\&quot;\\u003eOpenStreetMap\\u003c/a\\u003e, under \\u003ca href=\\&quot;http://creativecommons.org/licenses/by-sa/3.0\\&quot;\\u003eCC BY SA\\u003c/a\\u003e.&quot;, &quot;detectRetina&quot;: false, &quot;maxNativeZoom&quot;: 18, &quot;maxZoom&quot;: 18, &quot;minZoom&quot;: 0, &quot;noWrap&quot;: false, &quot;opacity&quot;: 1, &quot;subdomains&quot;: &quot;abc&quot;, &quot;tms&quot;: false}\n            ).addTo(map_be203cd46f04f3a1c44b752cd4113b67);\n        \n    \n\n        function geo_json_0463cab6dd7bff36b6a6a635c5960735_onEachFeature(feature, layer) {\n            layer.on({\n            });\n        };\n        var geo_json_0463cab6dd7bff36b6a6a635c5960735 = L.geoJson(null, {\n                onEachFeature: geo_json_0463cab6dd7bff36b6a6a635c5960735_onEachFeature,\n            \n        });\n\n        function geo_json_0463cab6dd7bff36b6a6a635c5960735_add (data) {\n            geo_json_0463cab6dd7bff36b6a6a635c5960735\n                .addData(data)\n                .addTo(map_be203cd46f04f3a1c44b752cd4113b67);\n        }\n            geo_json_0463cab6dd7bff36b6a6a635c5960735_add({&quot;crs&quot;: {&quot;properties&quot;: {&quot;name&quot;: &quot;urn:ogc:def:crs:OGC:1.3:CRS84&quot;}, &quot;type&quot;: &quot;name&quot;}, &quot;features&quot;: [{&quot;geometry&quot;: {&quot;coordinates&quot;: [6.359167, 46.766], &quot;type&quot;: &quot;Point&quot;}, &quot;properties&quot;: {&quot;Altitude&quot;: &quot;1036&quot;, &quot;ID&quot;: &quot;07392&quot;, &quot;Latitude&quot;: &quot;46.766000&quot;, &quot;Longitude&quot;: &quot;6.359167&quot;, &quot;Nom&quot;: &quot;METABIEF_STATION&quot;}, &quot;type&quot;: &quot;Feature&quot;}, {&quot;geometry&quot;: {&quot;coordinates&quot;: [6.970833, 46.020833], &quot;type&quot;: &quot;Point&quot;}, &quot;properties&quot;: {&quot;Altitude&quot;: &quot;2196&quot;, &quot;ID&quot;: &quot;07393&quot;, &quot;Latitude&quot;: &quot;46.020833&quot;, &quot;Longitude&quot;: &quot;6.970833&quot;, &quot;Nom&quot;: &quot;LE TOUR BALME&quot;}, &quot;type&quot;: &quot;Feature&quot;}, {&quot;geometry&quot;: {&quot;coordinates&quot;: [6.708167, 46.341167], &quot;type&quot;: &quot;Point&quot;}, &quot;properties&quot;: {&quot;Altitude&quot;: &quot;1535&quot;, &quot;ID&quot;: &quot;07454&quot;, &quot;Latitude&quot;: &quot;46.341167&quot;, &quot;Longitude&quot;: &quot;6.708167&quot;, &quot;Nom&quot;: &quot;Bernex&quot;}, &quot;type&quot;: &quot;Feature&quot;}, {&quot;geometry&quot;: {&quot;coordinates&quot;: [6.732667, 45.247667], &quot;type&quot;: &quot;Point&quot;}, &quot;properties&quot;: {&quot;Altitude&quot;: &quot;2166&quot;, &quot;ID&quot;: &quot;07456&quot;, &quot;Latitude&quot;: &quot;45.247667&quot;, &quot;Longitude&quot;: &quot;6.732667&quot;, &quot;Nom&quot;: &quot;Aussois&quot;}, &quot;type&quot;: &quot;Feature&quot;}, {&quot;geometry&quot;: {&quot;coordinates&quot;: [6.673333, 46.315333], &quot;type&quot;: &quot;Point&quot;}, &quot;properties&quot;: {&quot;Altitude&quot;: &quot;790&quot;, &quot;ID&quot;: &quot;07457&quot;, &quot;Latitude&quot;: &quot;46.315333&quot;, &quot;Longitude&quot;: &quot;6.673333&quot;, &quot;Nom&quot;: &quot;VACHERESSE AUXI&quot;}, &quot;type&quot;: &quot;Feature&quot;}, {&quot;geometry&quot;: {&quot;coordinates&quot;: [6.2025, 45.217167], &quot;type&quot;: &quot;Point&quot;}, &quot;properties&quot;: {&quot;Altitude&quot;: &quot;2090&quot;, &quot;ID&quot;: &quot;07466&quot;, &quot;Latitude&quot;: &quot;45.217167&quot;, &quot;Longitude&quot;: &quot;6.202500&quot;, &quot;Nom&quot;: &quot;ST SORLIN D\\u0027ARVES&quot;}, &quot;type&quot;: &quot;Feature&quot;}, {&quot;geometry&quot;: {&quot;coordinates&quot;: [6.885833, 45.901167], &quot;type&quot;: &quot;Point&quot;}, &quot;properties&quot;: {&quot;Altitude&quot;: &quot;2310&quot;, &quot;ID&quot;: &quot;07467&quot;, &quot;Latitude&quot;: &quot;45.901167&quot;, &quot;Longitude&quot;: &quot;6.885833&quot;, &quot;Nom&quot;: &quot;PLAN AIGUILLE TMB&quot;}, &quot;type&quot;: &quot;Feature&quot;}, {&quot;geometry&quot;: {&quot;coordinates&quot;: [6.8885, 45.962], &quot;type&quot;: &quot;Point&quot;}, &quot;properties&quot;: {&quot;Altitude&quot;: &quot;1850&quot;, &quot;ID&quot;: &quot;07470&quot;, &quot;Latitude&quot;: &quot;45.962000&quot;, &quot;Longitude&quot;: &quot;6.888500&quot;, &quot;Nom&quot;: &quot;LA FLEGERE&quot;}, &quot;type&quot;: &quot;Feature&quot;}, {&quot;geometry&quot;: {&quot;coordinates&quot;: [5.581167, 45.227167], &quot;type&quot;: &quot;Point&quot;}, &quot;properties&quot;: {&quot;Altitude&quot;: &quot;1260&quot;, &quot;ID&quot;: &quot;07488&quot;, &quot;Latitude&quot;: &quot;45.227167&quot;, &quot;Longitude&quot;: &quot;5.581167&quot;, &quot;Nom&quot;: &quot;AUTRANS-NIVO&quot;}, &quot;type&quot;: &quot;Feature&quot;}, {&quot;geometry&quot;: {&quot;coordinates&quot;: [6.978167, 45.445], &quot;type&quot;: &quot;Point&quot;}, &quot;properties&quot;: {&quot;Altitude&quot;: &quot;1854&quot;, &quot;ID&quot;: &quot;07498&quot;, &quot;Latitude&quot;: &quot;45.445000&quot;, &quot;Longitude&quot;: &quot;6.978167&quot;, &quot;Nom&quot;: &quot;Val d Isere Joseray&quot;}, &quot;type&quot;: &quot;Feature&quot;}, {&quot;geometry&quot;: {&quot;coordinates&quot;: [6.866167, 45.917833], &quot;type&quot;: &quot;Point&quot;}, &quot;properties&quot;: {&quot;Altitude&quot;: &quot;1025&quot;, &quot;ID&quot;: &quot;07499&quot;, &quot;Latitude&quot;: &quot;45.917833&quot;, &quot;Longitude&quot;: &quot;6.866167&quot;, &quot;Nom&quot;: &quot;CHAMONIX-OBS&quot;}, &quot;type&quot;: &quot;Feature&quot;}, {&quot;geometry&quot;: {&quot;coordinates&quot;: [7.057167, 45.373667], &quot;type&quot;: &quot;Point&quot;}, &quot;properties&quot;: {&quot;Altitude&quot;: &quot;1830&quot;, &quot;ID&quot;: &quot;07566&quot;, &quot;Latitude&quot;: &quot;45.373667&quot;, &quot;Longitude&quot;: &quot;7.057167&quot;, &quot;Nom&quot;: &quot;Bonneval sur Arc&quot;}, &quot;type&quot;: &quot;Feature&quot;}, {&quot;geometry&quot;: {&quot;coordinates&quot;: [6.922333, 45.274167], &quot;type&quot;: &quot;Point&quot;}, &quot;properties&quot;: {&quot;Altitude&quot;: &quot;2101&quot;, &quot;ID&quot;: &quot;07567&quot;, &quot;Latitude&quot;: &quot;45.274167&quot;, &quot;Longitude&quot;: &quot;6.922333&quot;, &quot;Nom&quot;: &quot;Val Cenis (La Berche)&quot;}, &quot;type&quot;: &quot;Feature&quot;}, {&quot;geometry&quot;: {&quot;coordinates&quot;: [6.7195, 44.938167], &quot;type&quot;: &quot;Point&quot;}, &quot;properties&quot;: {&quot;Altitude&quot;: &quot;2134&quot;, &quot;ID&quot;: &quot;07575&quot;, &quot;Latitude&quot;: &quot;44.938167&quot;, &quot;Longitude&quot;: &quot;6.719500&quot;, &quot;Nom&quot;: &quot;MONTGENEVRE-LE CHALVET&quot;}, &quot;type&quot;: &quot;Feature&quot;}, {&quot;geometry&quot;: {&quot;coordinates&quot;: [6.071667, 45.128167], &quot;type&quot;: &quot;Point&quot;}, &quot;properties&quot;: {&quot;Altitude&quot;: &quot;1350&quot;, &quot;ID&quot;: &quot;07582&quot;, &quot;Latitude&quot;: &quot;45.128167&quot;, &quot;Longitude&quot;: &quot;6.071667&quot;, &quot;Nom&quot;: &quot;Olmet&quot;}, &quot;type&quot;: &quot;Feature&quot;}, {&quot;geometry&quot;: {&quot;coordinates&quot;: [6.204667, 44.997], &quot;type&quot;: &quot;Point&quot;}, &quot;properties&quot;: {&quot;Altitude&quot;: &quot;3200&quot;, &quot;ID&quot;: &quot;07583&quot;, &quot;Latitude&quot;: &quot;44.997000&quot;, &quot;Longitude&quot;: &quot;6.204667&quot;, &quot;Nom&quot;: &quot;Les 2 ALpes Jandri&quot;}, &quot;type&quot;: &quot;Feature&quot;}, {&quot;geometry&quot;: {&quot;coordinates&quot;: [6.292, 44.932667], &quot;type&quot;: &quot;Point&quot;}, &quot;properties&quot;: {&quot;Altitude&quot;: &quot;1738&quot;, &quot;ID&quot;: &quot;07584&quot;, &quot;Latitude&quot;: &quot;44.932667&quot;, &quot;Longitude&quot;: &quot;6.292000&quot;, &quot;Nom&quot;: &quot;La Berarde&quot;}, &quot;type&quot;: &quot;Feature&quot;}, {&quot;geometry&quot;: {&quot;coordinates&quot;: [5.334333, 44.907167], &quot;type&quot;: &quot;Point&quot;}, &quot;properties&quot;: {&quot;Altitude&quot;: &quot;1425&quot;, &quot;ID&quot;: &quot;07585&quot;, &quot;Latitude&quot;: &quot;44.907167&quot;, &quot;Longitude&quot;: &quot;5.334333&quot;, &quot;Nom&quot;: &quot;FONT D\\u0027URLE&quot;}, &quot;type&quot;: &quot;Feature&quot;}, {&quot;geometry&quot;: {&quot;coordinates&quot;: [6.188333, 44.946667], &quot;type&quot;: &quot;Point&quot;}, &quot;properties&quot;: {&quot;Altitude&quot;: &quot;1570&quot;, &quot;ID&quot;: &quot;07589&quot;, &quot;Latitude&quot;: &quot;44.946667&quot;, &quot;Longitude&quot;: &quot;6.188333&quot;, &quot;Nom&quot;: &quot;St Christophe&quot;}, &quot;type&quot;: &quot;Feature&quot;}, {&quot;geometry&quot;: {&quot;coordinates&quot;: [6.195333, 44.81], &quot;type&quot;: &quot;Point&quot;}, &quot;properties&quot;: {&quot;Altitude&quot;: &quot;1270&quot;, &quot;ID&quot;: &quot;07590&quot;, &quot;Latitude&quot;: &quot;44.810000&quot;, &quot;Longitude&quot;: &quot;6.195333&quot;, &quot;Nom&quot;: &quot;Les Portes en Valgaudemar&quot;}, &quot;type&quot;: &quot;Feature&quot;}, {&quot;geometry&quot;: {&quot;coordinates&quot;: [5.906667, 44.6655], &quot;type&quot;: &quot;Point&quot;}, &quot;properties&quot;: {&quot;Altitude&quot;: &quot;1915&quot;, &quot;ID&quot;: &quot;07595&quot;, &quot;Latitude&quot;: &quot;44.665500&quot;, &quot;Longitude&quot;: &quot;5.906667&quot;, &quot;Nom&quot;: &quot;Super_Devoluy&quot;}, &quot;type&quot;: &quot;Feature&quot;}, {&quot;geometry&quot;: {&quot;coordinates&quot;: [6.352833, 44.580667], &quot;type&quot;: &quot;Point&quot;}, &quot;properties&quot;: {&quot;Altitude&quot;: &quot;1717&quot;, &quot;ID&quot;: &quot;07596&quot;, &quot;Latitude&quot;: &quot;44.580667&quot;, &quot;Longitude&quot;: &quot;6.352833&quot;, &quot;Nom&quot;: &quot;REALLON _NIVO&quot;}, &quot;type&quot;: &quot;Feature&quot;}, {&quot;geometry&quot;: {&quot;coordinates&quot;: [6.695, 44.343833], &quot;type&quot;: &quot;Point&quot;}, &quot;properties&quot;: {&quot;Altitude&quot;: &quot;1980&quot;, &quot;ID&quot;: &quot;07598&quot;, &quot;Latitude&quot;: &quot;44.343833&quot;, &quot;Longitude&quot;: &quot;6.695000&quot;, &quot;Nom&quot;: &quot;LE SAUZE&quot;}, &quot;type&quot;: &quot;Feature&quot;}, {&quot;geometry&quot;: {&quot;coordinates&quot;: [6.084333, 44.6215], &quot;type&quot;: &quot;Point&quot;}, &quot;properties&quot;: {&quot;Altitude&quot;: &quot;1240&quot;, &quot;ID&quot;: &quot;07599&quot;, &quot;Latitude&quot;: &quot;44.621500&quot;, &quot;Longitude&quot;: &quot;6.084333&quot;, &quot;Nom&quot;: &quot;GAP-BAYARD&quot;}, &quot;type&quot;: &quot;Feature&quot;}, {&quot;geometry&quot;: {&quot;coordinates&quot;: [-1.026667, 43.038167], &quot;type&quot;: &quot;Point&quot;}, &quot;properties&quot;: {&quot;Altitude&quot;: &quot;1327&quot;, &quot;ID&quot;: &quot;07608&quot;, &quot;Latitude&quot;: &quot;43.038167&quot;, &quot;Longitude&quot;: &quot;-1.026667&quot;, &quot;Nom&quot;: &quot;Iraty&quot;}, &quot;type&quot;: &quot;Feature&quot;}, {&quot;geometry&quot;: {&quot;coordinates&quot;: [6.753, 44.239167], &quot;type&quot;: &quot;Point&quot;}, &quot;properties&quot;: {&quot;Altitude&quot;: &quot;1850&quot;, &quot;ID&quot;: &quot;07696&quot;, &quot;Latitude&quot;: &quot;44.239167&quot;, &quot;Longitude&quot;: &quot;6.753000&quot;, &quot;Nom&quot;: &quot;Estenc&quot;}, &quot;type&quot;: &quot;Feature&quot;}, {&quot;geometry&quot;: {&quot;coordinates&quot;: [7.505833, 44.0975], &quot;type&quot;: &quot;Point&quot;}, &quot;properties&quot;: {&quot;Altitude&quot;: &quot;1554&quot;, &quot;ID&quot;: &quot;07697&quot;, &quot;Latitude&quot;: &quot;44.097500&quot;, &quot;Longitude&quot;: &quot;7.505833&quot;, &quot;Nom&quot;: &quot;Val Casterino&quot;}, &quot;type&quot;: &quot;Feature&quot;}, {&quot;geometry&quot;: {&quot;coordinates&quot;: [6.570833, 45.012833], &quot;type&quot;: &quot;Point&quot;}, &quot;properties&quot;: {&quot;Altitude&quot;: &quot;2060&quot;, &quot;ID&quot;: &quot;07710&quot;, &quot;Latitude&quot;: &quot;45.012833&quot;, &quot;Longitude&quot;: &quot;6.570833&quot;, &quot;Nom&quot;: &quot;NEVACHE-BUFFERE&quot;}, &quot;type&quot;: &quot;Feature&quot;}, {&quot;geometry&quot;: {&quot;coordinates&quot;: [6.895167, 45.577833], &quot;type&quot;: &quot;Point&quot;}, &quot;properties&quot;: {&quot;Altitude&quot;: &quot;1524&quot;, &quot;ID&quot;: &quot;07711&quot;, &quot;Latitude&quot;: &quot;45.577833&quot;, &quot;Longitude&quot;: &quot;6.895167&quot;, &quot;Nom&quot;: &quot;STE FOY STATION&quot;}, &quot;type&quot;: &quot;Feature&quot;}, {&quot;geometry&quot;: {&quot;coordinates&quot;: [6.644167, 44.616667], &quot;type&quot;: &quot;Point&quot;}, &quot;properties&quot;: {&quot;Altitude&quot;: &quot;2050&quot;, &quot;ID&quot;: &quot;07715&quot;, &quot;Latitude&quot;: &quot;44.616667&quot;, &quot;Longitude&quot;: &quot;6.644167&quot;, &quot;Nom&quot;: &quot;RISOUL&quot;}, &quot;type&quot;: &quot;Feature&quot;}, {&quot;geometry&quot;: {&quot;coordinates&quot;: [6.665333, 46.027333], &quot;type&quot;: &quot;Point&quot;}, &quot;properties&quot;: {&quot;Altitude&quot;: &quot;1747&quot;, &quot;ID&quot;: &quot;07721&quot;, &quot;Latitude&quot;: &quot;46.027333&quot;, &quot;Longitude&quot;: &quot;6.665333&quot;, &quot;Nom&quot;: &quot;LES CARROZ KEDEUSAZ&quot;}, &quot;type&quot;: &quot;Feature&quot;}, {&quot;geometry&quot;: {&quot;coordinates&quot;: [0.768167, 42.911833], &quot;type&quot;: &quot;Point&quot;}, &quot;properties&quot;: {&quot;Altitude&quot;: &quot;1456&quot;, &quot;ID&quot;: &quot;07725&quot;, &quot;Latitude&quot;: &quot;42.911833&quot;, &quot;Longitude&quot;: &quot;0.768167&quot;, &quot;Nom&quot;: &quot;Boutx le Mourtis&quot;}, &quot;type&quot;: &quot;Feature&quot;}, {&quot;geometry&quot;: {&quot;coordinates&quot;: [1.513333, 42.7395], &quot;type&quot;: &quot;Point&quot;}, &quot;properties&quot;: {&quot;Altitude&quot;: &quot;1468&quot;, &quot;ID&quot;: &quot;07730&quot;, &quot;Latitude&quot;: &quot;42.739500&quot;, &quot;Longitude&quot;: &quot;1.513333&quot;, &quot;Nom&quot;: &quot;Goulier&quot;}, &quot;type&quot;: &quot;Feature&quot;}, {&quot;geometry&quot;: {&quot;coordinates&quot;: [1.863333, 42.755], &quot;type&quot;: &quot;Point&quot;}, &quot;properties&quot;: {&quot;Altitude&quot;: &quot;1600&quot;, &quot;ID&quot;: &quot;07746&quot;, &quot;Latitude&quot;: &quot;42.755000&quot;, &quot;Longitude&quot;: &quot;1.863333&quot;, &quot;Nom&quot;: &quot;LE CHIOULA&quot;}, &quot;type&quot;: &quot;Feature&quot;}, {&quot;geometry&quot;: {&quot;coordinates&quot;: [6.1, 45.1], &quot;type&quot;: &quot;Point&quot;}, &quot;properties&quot;: {&quot;Altitude&quot;: &quot;2350&quot;, &quot;ID&quot;: &quot;07811&quot;, &quot;Latitude&quot;: &quot;45.100000&quot;, &quot;Longitude&quot;: &quot;6.100000&quot;, &quot;Nom&quot;: &quot;L Alpe d Huez 2350&quot;}, &quot;type&quot;: &quot;Feature&quot;}, {&quot;geometry&quot;: {&quot;coordinates&quot;: [6.5245, 45.878833], &quot;type&quot;: &quot;Point&quot;}, &quot;properties&quot;: {&quot;Altitude&quot;: &quot;1210&quot;, &quot;ID&quot;: &quot;07813&quot;, &quot;Latitude&quot;: &quot;45.878833&quot;, &quot;Longitude&quot;: &quot;6.524500&quot;, &quot;Nom&quot;: &quot;LA GIETTAZ&quot;}, &quot;type&quot;: &quot;Feature&quot;}, {&quot;geometry&quot;: {&quot;coordinates&quot;: [6.571, 45.247833], &quot;type&quot;: &quot;Point&quot;}, &quot;properties&quot;: {&quot;Altitude&quot;: &quot;2356&quot;, &quot;ID&quot;: &quot;07815&quot;, &quot;Latitude&quot;: &quot;45.247833&quot;, &quot;Longitude&quot;: &quot;6.571000&quot;, &quot;Nom&quot;: &quot;Orelle&quot;}, &quot;type&quot;: &quot;Feature&quot;}, {&quot;geometry&quot;: {&quot;coordinates&quot;: [5.547667, 44.893], &quot;type&quot;: &quot;Point&quot;}, &quot;properties&quot;: {&quot;Altitude&quot;: &quot;1250&quot;, &quot;ID&quot;: &quot;07818&quot;, &quot;Latitude&quot;: &quot;44.893000&quot;, &quot;Longitude&quot;: &quot;5.547667&quot;, &quot;Nom&quot;: &quot;Gresse en Vercors&quot;}, &quot;type&quot;: &quot;Feature&quot;}, {&quot;geometry&quot;: {&quot;coordinates&quot;: [6.697333, 46.0035], &quot;type&quot;: &quot;Point&quot;}, &quot;properties&quot;: {&quot;Altitude&quot;: &quot;1620&quot;, &quot;ID&quot;: &quot;07856&quot;, &quot;Latitude&quot;: &quot;46.003500&quot;, &quot;Longitude&quot;: &quot;6.697333&quot;, &quot;Nom&quot;: &quot;Flaine&quot;}, &quot;type&quot;: &quot;Feature&quot;}, {&quot;geometry&quot;: {&quot;coordinates&quot;: [6.780167, 46.186167], &quot;type&quot;: &quot;Point&quot;}, &quot;properties&quot;: {&quot;Altitude&quot;: &quot;1765&quot;, &quot;ID&quot;: &quot;07858&quot;, &quot;Latitude&quot;: &quot;46.186167&quot;, &quot;Longitude&quot;: &quot;6.780167&quot;, &quot;Nom&quot;: &quot;Avoriaz&quot;}, &quot;type&quot;: &quot;Feature&quot;}, {&quot;geometry&quot;: {&quot;coordinates&quot;: [6.797167, 46.225167], &quot;type&quot;: &quot;Point&quot;}, &quot;properties&quot;: {&quot;Altitude&quot;: &quot;1700&quot;, &quot;ID&quot;: &quot;07861&quot;, &quot;Latitude&quot;: &quot;46.225167&quot;, &quot;Longitude&quot;: &quot;6.797167&quot;, &quot;Nom&quot;: &quot;CHATEL NIVO&quot;}, &quot;type&quot;: &quot;Feature&quot;}, {&quot;geometry&quot;: {&quot;coordinates&quot;: [6.698833, 45.1885], &quot;type&quot;: &quot;Point&quot;}, &quot;properties&quot;: {&quot;Altitude&quot;: &quot;1960&quot;, &quot;ID&quot;: &quot;07863&quot;, &quot;Latitude&quot;: &quot;45.188500&quot;, &quot;Longitude&quot;: &quot;6.698833&quot;, &quot;Nom&quot;: &quot;La Norma&quot;}, &quot;type&quot;: &quot;Feature&quot;}, {&quot;geometry&quot;: {&quot;coordinates&quot;: [2.820833, 45.532167], &quot;type&quot;: &quot;Point&quot;}, &quot;properties&quot;: {&quot;Altitude&quot;: &quot;1664&quot;, &quot;ID&quot;: &quot;07865&quot;, &quot;Latitude&quot;: &quot;45.532167&quot;, &quot;Longitude&quot;: &quot;2.820833&quot;, &quot;Nom&quot;: &quot;PLATEAU CACADOGNE&quot;}, &quot;type&quot;: &quot;Feature&quot;}, {&quot;geometry&quot;: {&quot;coordinates&quot;: [6.276333, 45.713], &quot;type&quot;: &quot;Point&quot;}, &quot;properties&quot;: {&quot;Altitude&quot;: &quot;1159&quot;, &quot;ID&quot;: &quot;07871&quot;, &quot;Latitude&quot;: &quot;45.713000&quot;, &quot;Longitude&quot;: &quot;6.276333&quot;, &quot;Nom&quot;: &quot;Seythenex&quot;}, &quot;type&quot;: &quot;Feature&quot;}, {&quot;geometry&quot;: {&quot;coordinates&quot;: [5.995667, 45.256167], &quot;type&quot;: &quot;Point&quot;}, &quot;properties&quot;: {&quot;Altitude&quot;: &quot;1355&quot;, &quot;ID&quot;: &quot;07872&quot;, &quot;Latitude&quot;: &quot;45.256167&quot;, &quot;Longitude&quot;: &quot;5.995667&quot;, &quot;Nom&quot;: &quot;PRAPOUTEL&quot;}, &quot;type&quot;: &quot;Feature&quot;}, {&quot;geometry&quot;: {&quot;coordinates&quot;: [6.948, 46.001667], &quot;type&quot;: &quot;Point&quot;}, &quot;properties&quot;: {&quot;Altitude&quot;: &quot;1470&quot;, &quot;ID&quot;: &quot;07873&quot;, &quot;Latitude&quot;: &quot;46.001667&quot;, &quot;Longitude&quot;: &quot;6.948000&quot;, &quot;Nom&quot;: &quot;LE TOUR NIVO&quot;}, &quot;type&quot;: &quot;Feature&quot;}, {&quot;geometry&quot;: {&quot;coordinates&quot;: [6.072833, 45.097667], &quot;type&quot;: &quot;Point&quot;}, &quot;properties&quot;: {&quot;Altitude&quot;: &quot;1860&quot;, &quot;ID&quot;: &quot;07875&quot;, &quot;Latitude&quot;: &quot;45.097667&quot;, &quot;Longitude&quot;: &quot;6.072833&quot;, &quot;Nom&quot;: &quot;L Alpe d Huez (SATA)&quot;}, &quot;type&quot;: &quot;Feature&quot;}, {&quot;geometry&quot;: {&quot;coordinates&quot;: [6.452333, 45.970667], &quot;type&quot;: &quot;Point&quot;}, &quot;properties&quot;: {&quot;Altitude&quot;: &quot;1270&quot;, &quot;ID&quot;: &quot;07876&quot;, &quot;Latitude&quot;: &quot;45.970667&quot;, &quot;Longitude&quot;: &quot;6.452333&quot;, &quot;Nom&quot;: &quot;Le Grand Bornand&quot;}, &quot;type&quot;: &quot;Feature&quot;}, {&quot;geometry&quot;: {&quot;coordinates&quot;: [6.123833, 45.3895], &quot;type&quot;: &quot;Point&quot;}, &quot;properties&quot;: {&quot;Altitude&quot;: &quot;1642&quot;, &quot;ID&quot;: &quot;07877&quot;, &quot;Latitude&quot;: &quot;45.389500&quot;, &quot;Longitude&quot;: &quot;6.123833&quot;, &quot;Nom&quot;: &quot;Le Collet d Allevard&quot;}, &quot;type&quot;: &quot;Feature&quot;}, {&quot;geometry&quot;: {&quot;coordinates&quot;: [6.076333, 45.057167], &quot;type&quot;: &quot;Point&quot;}, &quot;properties&quot;: {&quot;Altitude&quot;: &quot;1600&quot;, &quot;ID&quot;: &quot;07878&quot;, &quot;Latitude&quot;: &quot;45.057167&quot;, &quot;Longitude&quot;: &quot;6.076333&quot;, &quot;Nom&quot;: &quot;AURIS-EN-OISANS&quot;}, &quot;type&quot;: &quot;Feature&quot;}, {&quot;geometry&quot;: {&quot;coordinates&quot;: [6.171833, 44.996667], &quot;type&quot;: &quot;Point&quot;}, &quot;properties&quot;: {&quot;Altitude&quot;: &quot;2590&quot;, &quot;ID&quot;: &quot;07881&quot;, &quot;Latitude&quot;: &quot;44.996667&quot;, &quot;Longitude&quot;: &quot;6.171833&quot;, &quot;Nom&quot;: &quot;Les 2 Alpes (Toura NE)&quot;}, &quot;type&quot;: &quot;Feature&quot;}, {&quot;geometry&quot;: {&quot;coordinates&quot;: [5.8625, 45.020833], &quot;type&quot;: &quot;Point&quot;}, &quot;properties&quot;: {&quot;Altitude&quot;: &quot;1390&quot;, &quot;ID&quot;: &quot;07882&quot;, &quot;Latitude&quot;: &quot;45.020833&quot;, &quot;Longitude&quot;: &quot;5.862500&quot;, &quot;Nom&quot;: &quot;L Alpe du Grand Serre&quot;}, &quot;type&quot;: &quot;Feature&quot;}, {&quot;geometry&quot;: {&quot;coordinates&quot;: [6.063333, 45.645], &quot;type&quot;: &quot;Point&quot;}, &quot;properties&quot;: {&quot;Altitude&quot;: &quot;1400&quot;, &quot;ID&quot;: &quot;07884&quot;, &quot;Latitude&quot;: &quot;45.645000&quot;, &quot;Longitude&quot;: &quot;6.063333&quot;, &quot;Nom&quot;: &quot;Les Aillons (Margeriaz)&quot;}, &quot;type&quot;: &quot;Feature&quot;}, {&quot;geometry&quot;: {&quot;coordinates&quot;: [6.404, 45.227667], &quot;type&quot;: &quot;Point&quot;}, &quot;properties&quot;: {&quot;Altitude&quot;: &quot;1603&quot;, &quot;ID&quot;: &quot;07885&quot;, &quot;Latitude&quot;: &quot;45.227667&quot;, &quot;Longitude&quot;: &quot;6.404000&quot;, &quot;Nom&quot;: &quot;Les Karellis&quot;}, &quot;type&quot;: &quot;Feature&quot;}, {&quot;geometry&quot;: {&quot;coordinates&quot;: [5.570333, 45.029167], &quot;type&quot;: &quot;Point&quot;}, &quot;properties&quot;: {&quot;Altitude&quot;: &quot;1720&quot;, &quot;ID&quot;: &quot;07886&quot;, &quot;Latitude&quot;: &quot;45.029167&quot;, &quot;Longitude&quot;: &quot;5.570333&quot;, &quot;Nom&quot;: &quot;Villard cote 2000&quot;}, &quot;type&quot;: &quot;Feature&quot;}, {&quot;geometry&quot;: {&quot;coordinates&quot;: [6.445, 45.893], &quot;type&quot;: &quot;Point&quot;}, &quot;properties&quot;: {&quot;Altitude&quot;: &quot;1594&quot;, &quot;ID&quot;: &quot;07887&quot;, &quot;Latitude&quot;: &quot;45.893000&quot;, &quot;Longitude&quot;: &quot;6.445000&quot;, &quot;Nom&quot;: &quot;LA CLUSAZ&quot;}, &quot;type&quot;: &quot;Feature&quot;}, {&quot;geometry&quot;: {&quot;coordinates&quot;: [6.493833, 45.176], &quot;type&quot;: &quot;Point&quot;}, &quot;properties&quot;: {&quot;Altitude&quot;: &quot;1788&quot;, &quot;ID&quot;: &quot;07888&quot;, &quot;Latitude&quot;: &quot;45.176000&quot;, &quot;Longitude&quot;: &quot;6.493833&quot;, &quot;Nom&quot;: &quot;Valmeinier&quot;}, &quot;type&quot;: &quot;Feature&quot;}, {&quot;geometry&quot;: {&quot;coordinates&quot;: [6.541667, 45.323333], &quot;type&quot;: &quot;Point&quot;}, &quot;properties&quot;: {&quot;Altitude&quot;: &quot;1800&quot;, &quot;ID&quot;: &quot;07889&quot;, &quot;Latitude&quot;: &quot;45.323333&quot;, &quot;Longitude&quot;: &quot;6.541667&quot;, &quot;Nom&quot;: &quot;Les Menuires&quot;}, &quot;type&quot;: &quot;Feature&quot;}, {&quot;geometry&quot;: {&quot;coordinates&quot;: [6.664833, 45.155833], &quot;type&quot;: &quot;Point&quot;}, &quot;properties&quot;: {&quot;Altitude&quot;: &quot;2208&quot;, &quot;ID&quot;: &quot;07890&quot;, &quot;Latitude&quot;: &quot;45.155833&quot;, &quot;Longitude&quot;: &quot;6.664833&quot;, &quot;Nom&quot;: &quot;Val Frejus&quot;}, &quot;type&quot;: &quot;Feature&quot;}, {&quot;geometry&quot;: {&quot;coordinates&quot;: [6.5405, 45.671333], &quot;type&quot;: &quot;Point&quot;}, &quot;properties&quot;: {&quot;Altitude&quot;: &quot;1209&quot;, &quot;ID&quot;: &quot;07891&quot;, &quot;Latitude&quot;: &quot;45.671333&quot;, &quot;Longitude&quot;: &quot;6.540500&quot;, &quot;Nom&quot;: &quot;Areches&quot;}, &quot;type&quot;: &quot;Feature&quot;}, {&quot;geometry&quot;: {&quot;coordinates&quot;: [6.583333, 45.371667], &quot;type&quot;: &quot;Point&quot;}, &quot;properties&quot;: {&quot;Altitude&quot;: &quot;1700&quot;, &quot;ID&quot;: &quot;07892&quot;, &quot;Latitude&quot;: &quot;45.371667&quot;, &quot;Longitude&quot;: &quot;6.583333&quot;, &quot;Nom&quot;: &quot;Meribel Mottaret&quot;}, &quot;type&quot;: &quot;Feature&quot;}, {&quot;geometry&quot;: {&quot;coordinates&quot;: [6.632167, 45.413333], &quot;type&quot;: &quot;Point&quot;}, &quot;properties&quot;: {&quot;Altitude&quot;: &quot;1780&quot;, &quot;ID&quot;: &quot;07893&quot;, &quot;Latitude&quot;: &quot;45.413333&quot;, &quot;Longitude&quot;: &quot;6.632167&quot;, &quot;Nom&quot;: &quot;Courchevel&quot;}, &quot;type&quot;: &quot;Feature&quot;}, {&quot;geometry&quot;: {&quot;coordinates&quot;: [6.445167, 45.461833], &quot;type&quot;: &quot;Point&quot;}, &quot;properties&quot;: {&quot;Altitude&quot;: &quot;1350&quot;, &quot;ID&quot;: &quot;07894&quot;, &quot;Latitude&quot;: &quot;45.461833&quot;, &quot;Longitude&quot;: &quot;6.445167&quot;, &quot;Nom&quot;: &quot;Valmorel&quot;}, &quot;type&quot;: &quot;Feature&quot;}, {&quot;geometry&quot;: {&quot;coordinates&quot;: [6.671667, 45.505], &quot;type&quot;: &quot;Point&quot;}, &quot;properties&quot;: {&quot;Altitude&quot;: &quot;1970&quot;, &quot;ID&quot;: &quot;07895&quot;, &quot;Latitude&quot;: &quot;45.505000&quot;, &quot;Longitude&quot;: &quot;6.671667&quot;, &quot;Nom&quot;: &quot;La Plagne&quot;}, &quot;type&quot;: &quot;Feature&quot;}, {&quot;geometry&quot;: {&quot;coordinates&quot;: [6.72, 45.381667], &quot;type&quot;: &quot;Point&quot;}, &quot;properties&quot;: {&quot;Altitude&quot;: &quot;1416&quot;, &quot;ID&quot;: &quot;07896&quot;, &quot;Latitude&quot;: &quot;45.381667&quot;, &quot;Longitude&quot;: &quot;6.720000&quot;, &quot;Nom&quot;: &quot;Pralognan&quot;}, &quot;type&quot;: &quot;Feature&quot;}, {&quot;geometry&quot;: {&quot;coordinates&quot;: [6.699833, 45.791833], &quot;type&quot;: &quot;Point&quot;}, &quot;properties&quot;: {&quot;Altitude&quot;: &quot;1780&quot;, &quot;ID&quot;: &quot;07897&quot;, &quot;Latitude&quot;: &quot;45.791833&quot;, &quot;Longitude&quot;: &quot;6.699833&quot;, &quot;Nom&quot;: &quot;LES CONTAMINES MONTJOIE&quot;}, &quot;type&quot;: &quot;Feature&quot;}, {&quot;geometry&quot;: {&quot;coordinates&quot;: [6.826667, 45.573333], &quot;type&quot;: &quot;Point&quot;}, &quot;properties&quot;: {&quot;Altitude&quot;: &quot;2040&quot;, &quot;ID&quot;: &quot;07900&quot;, &quot;Latitude&quot;: &quot;45.573333&quot;, &quot;Longitude&quot;: &quot;6.826667&quot;, &quot;Nom&quot;: &quot;Les Arcs&quot;}, &quot;type&quot;: &quot;Feature&quot;}, {&quot;geometry&quot;: {&quot;coordinates&quot;: [6.848333, 45.629833], &quot;type&quot;: &quot;Point&quot;}, &quot;properties&quot;: {&quot;Altitude&quot;: &quot;1867&quot;, &quot;ID&quot;: &quot;07901&quot;, &quot;Latitude&quot;: &quot;45.629833&quot;, &quot;Longitude&quot;: &quot;6.848333&quot;, &quot;Nom&quot;: &quot;La Rosiere&quot;}, &quot;type&quot;: &quot;Feature&quot;}, {&quot;geometry&quot;: {&quot;coordinates&quot;: [5.895667, 45.120667], &quot;type&quot;: &quot;Point&quot;}, &quot;properties&quot;: {&quot;Altitude&quot;: &quot;2022&quot;, &quot;ID&quot;: &quot;07902&quot;, &quot;Latitude&quot;: &quot;45.120667&quot;, &quot;Longitude&quot;: &quot;5.895667&quot;, &quot;Nom&quot;: &quot;Chamrousse Niverolles&quot;}, &quot;type&quot;: &quot;Feature&quot;}, {&quot;geometry&quot;: {&quot;coordinates&quot;: [5.609167, 45.1115], &quot;type&quot;: &quot;Point&quot;}, &quot;properties&quot;: {&quot;Altitude&quot;: &quot;1400&quot;, &quot;ID&quot;: &quot;07903&quot;, &quot;Latitude&quot;: &quot;45.111500&quot;, &quot;Longitude&quot;: &quot;5.609167&quot;, &quot;Nom&quot;: &quot;Lans en Vercors&quot;}, &quot;type&quot;: &quot;Feature&quot;}, {&quot;geometry&quot;: {&quot;coordinates&quot;: [6.908333, 45.468333], &quot;type&quot;: &quot;Point&quot;}, &quot;properties&quot;: {&quot;Altitude&quot;: &quot;2080&quot;, &quot;ID&quot;: &quot;07904&quot;, &quot;Latitude&quot;: &quot;45.468333&quot;, &quot;Longitude&quot;: &quot;6.908333&quot;, &quot;Nom&quot;: &quot;Tignes&quot;}, &quot;type&quot;: &quot;Feature&quot;}, {&quot;geometry&quot;: {&quot;coordinates&quot;: [6.266667, 45.243333], &quot;type&quot;: &quot;Point&quot;}, &quot;properties&quot;: {&quot;Altitude&quot;: &quot;1585&quot;, &quot;ID&quot;: &quot;07907&quot;, &quot;Latitude&quot;: &quot;45.243333&quot;, &quot;Longitude&quot;: &quot;6.266667&quot;, &quot;Nom&quot;: &quot;Le Corbier&quot;}, &quot;type&quot;: &quot;Feature&quot;}, {&quot;geometry&quot;: {&quot;coordinates&quot;: [6.942833, 45.968333], &quot;type&quot;: &quot;Point&quot;}, &quot;properties&quot;: {&quot;Altitude&quot;: &quot;1970&quot;, &quot;ID&quot;: &quot;07908&quot;, &quot;Latitude&quot;: &quot;45.968333&quot;, &quot;Longitude&quot;: &quot;6.942833&quot;, &quot;Nom&quot;: &quot;Lognan&quot;}, &quot;type&quot;: &quot;Feature&quot;}, {&quot;geometry&quot;: {&quot;coordinates&quot;: [5.8465, 45.345], &quot;type&quot;: &quot;Point&quot;}, &quot;properties&quot;: {&quot;Altitude&quot;: &quot;1700&quot;, &quot;ID&quot;: &quot;07909&quot;, &quot;Latitude&quot;: &quot;45.345000&quot;, &quot;Longitude&quot;: &quot;5.846500&quot;, &quot;Nom&quot;: &quot;St Pierre de Chartreuse&quot;}, &quot;type&quot;: &quot;Feature&quot;}, {&quot;geometry&quot;: {&quot;coordinates&quot;: [6.528833, 45.758333], &quot;type&quot;: &quot;Point&quot;}, &quot;properties&quot;: {&quot;Altitude&quot;: &quot;1636&quot;, &quot;ID&quot;: &quot;07911&quot;, &quot;Latitude&quot;: &quot;45.758333&quot;, &quot;Longitude&quot;: &quot;6.528833&quot;, &quot;Nom&quot;: &quot;Les Saisies&quot;}, &quot;type&quot;: &quot;Feature&quot;}, {&quot;geometry&quot;: {&quot;coordinates&quot;: [6.995333, 45.320667], &quot;type&quot;: &quot;Point&quot;}, &quot;properties&quot;: {&quot;Altitude&quot;: &quot;1713&quot;, &quot;ID&quot;: &quot;07912&quot;, &quot;Latitude&quot;: &quot;45.320667&quot;, &quot;Longitude&quot;: &quot;6.995333&quot;, &quot;Nom&quot;: &quot;Bessans&quot;}, &quot;type&quot;: &quot;Feature&quot;}, {&quot;geometry&quot;: {&quot;coordinates&quot;: [7.016167, 45.441833], &quot;type&quot;: &quot;Point&quot;}, &quot;properties&quot;: {&quot;Altitude&quot;: &quot;2310&quot;, &quot;ID&quot;: &quot;07913&quot;, &quot;Latitude&quot;: &quot;45.441833&quot;, &quot;Longitude&quot;: &quot;7.016167&quot;, &quot;Nom&quot;: &quot;Le Molard&quot;}, &quot;type&quot;: &quot;Feature&quot;}, {&quot;geometry&quot;: {&quot;coordinates&quot;: [6.288667, 45.0255], &quot;type&quot;: &quot;Point&quot;}, &quot;properties&quot;: {&quot;Altitude&quot;: &quot;2420&quot;, &quot;ID&quot;: &quot;07915&quot;, &quot;Latitude&quot;: &quot;45.025500&quot;, &quot;Longitude&quot;: &quot;6.288667&quot;, &quot;Nom&quot;: &quot;La Grave - La Meije&quot;}, &quot;type&quot;: &quot;Feature&quot;}, {&quot;geometry&quot;: {&quot;coordinates&quot;: [6.363333, 45.417833], &quot;type&quot;: &quot;Point&quot;}, &quot;properties&quot;: {&quot;Altitude&quot;: &quot;1594&quot;, &quot;ID&quot;: &quot;07916&quot;, &quot;Latitude&quot;: &quot;45.417833&quot;, &quot;Longitude&quot;: &quot;6.363333&quot;, &quot;Nom&quot;: &quot;ST FRANCOIS LONG&quot;}, &quot;type&quot;: &quot;Feature&quot;}, {&quot;geometry&quot;: {&quot;coordinates&quot;: [6.5825, 45.2945], &quot;type&quot;: &quot;Point&quot;}, &quot;properties&quot;: {&quot;Altitude&quot;: &quot;2283&quot;, &quot;ID&quot;: &quot;07918&quot;, &quot;Latitude&quot;: &quot;45.294500&quot;, &quot;Longitude&quot;: &quot;6.582500&quot;, &quot;Nom&quot;: &quot;VAL THORENS&quot;}, &quot;type&quot;: &quot;Feature&quot;}, {&quot;geometry&quot;: {&quot;coordinates&quot;: [6.3165, 44.709333], &quot;type&quot;: &quot;Point&quot;}, &quot;properties&quot;: {&quot;Altitude&quot;: &quot;2130&quot;, &quot;ID&quot;: &quot;07919&quot;, &quot;Latitude&quot;: &quot;44.709333&quot;, &quot;Longitude&quot;: &quot;6.316500&quot;, &quot;Nom&quot;: &quot;Orcieres&quot;}, &quot;type&quot;: &quot;Feature&quot;}, {&quot;geometry&quot;: {&quot;coordinates&quot;: [6.097667, 45.158833], &quot;type&quot;: &quot;Point&quot;}, &quot;properties&quot;: {&quot;Altitude&quot;: &quot;1720&quot;, &quot;ID&quot;: &quot;07920&quot;, &quot;Latitude&quot;: &quot;45.158833&quot;, &quot;Longitude&quot;: &quot;6.097667&quot;, &quot;Nom&quot;: &quot;VAUJANY-NIVO&quot;}, &quot;type&quot;: &quot;Feature&quot;}, {&quot;geometry&quot;: {&quot;coordinates&quot;: [6.485833, 44.818], &quot;type&quot;: &quot;Point&quot;}, &quot;properties&quot;: {&quot;Altitude&quot;: &quot;1680&quot;, &quot;ID&quot;: &quot;07921&quot;, &quot;Latitude&quot;: &quot;44.818000&quot;, &quot;Longitude&quot;: &quot;6.485833&quot;, &quot;Nom&quot;: &quot;PUY ST VINCENT 1600&quot;}, &quot;type&quot;: &quot;Feature&quot;}, {&quot;geometry&quot;: {&quot;coordinates&quot;: [6.465333, 45.163167], &quot;type&quot;: &quot;Point&quot;}, &quot;properties&quot;: {&quot;Altitude&quot;: &quot;2295&quot;, &quot;ID&quot;: &quot;07922&quot;, &quot;Latitude&quot;: &quot;45.163167&quot;, &quot;Longitude&quot;: &quot;6.465333&quot;, &quot;Nom&quot;: &quot;Valloire&quot;}, &quot;type&quot;: &quot;Feature&quot;}, {&quot;geometry&quot;: {&quot;coordinates&quot;: [6.562833, 44.481667], &quot;type&quot;: &quot;Point&quot;}, &quot;properties&quot;: {&quot;Altitude&quot;: &quot;1895&quot;, &quot;ID&quot;: &quot;07923&quot;, &quot;Latitude&quot;: &quot;44.481667&quot;, &quot;Longitude&quot;: &quot;6.562833&quot;, &quot;Nom&quot;: &quot;LES ORRES FONTAINES&quot;}, &quot;type&quot;: &quot;Feature&quot;}, {&quot;geometry&quot;: {&quot;coordinates&quot;: [6.571333, 44.9245], &quot;type&quot;: &quot;Point&quot;}, &quot;properties&quot;: {&quot;Altitude&quot;: &quot;1905&quot;, &quot;ID&quot;: &quot;07925&quot;, &quot;Latitude&quot;: &quot;44.924500&quot;, &quot;Longitude&quot;: &quot;6.571333&quot;, &quot;Nom&quot;: &quot;Serre Chevalier&quot;}, &quot;type&quot;: &quot;Feature&quot;}, {&quot;geometry&quot;: {&quot;coordinates&quot;: [6.501, 44.949833], &quot;type&quot;: &quot;Point&quot;}, &quot;properties&quot;: {&quot;Altitude&quot;: &quot;2185&quot;, &quot;ID&quot;: &quot;07926&quot;, &quot;Latitude&quot;: &quot;44.949833&quot;, &quot;Longitude&quot;: &quot;6.501000&quot;, &quot;Nom&quot;: &quot;Le Monetier&quot;}, &quot;type&quot;: &quot;Feature&quot;}, {&quot;geometry&quot;: {&quot;coordinates&quot;: [6.584667, 44.36], &quot;type&quot;: &quot;Point&quot;}, &quot;properties&quot;: {&quot;Altitude&quot;: &quot;2100&quot;, &quot;ID&quot;: &quot;07927&quot;, &quot;Latitude&quot;: &quot;44.360000&quot;, &quot;Longitude&quot;: &quot;6.584667&quot;, &quot;Nom&quot;: &quot;Pra Loup&quot;}, &quot;type&quot;: &quot;Feature&quot;}, {&quot;geometry&quot;: {&quot;coordinates&quot;: [6.658333, 46.1655], &quot;type&quot;: &quot;Point&quot;}, &quot;properties&quot;: {&quot;Altitude&quot;: &quot;1550&quot;, &quot;ID&quot;: &quot;07928&quot;, &quot;Latitude&quot;: &quot;46.165500&quot;, &quot;Longitude&quot;: &quot;6.658333&quot;, &quot;Nom&quot;: &quot;Les Gets&quot;}, &quot;type&quot;: &quot;Feature&quot;}, {&quot;geometry&quot;: {&quot;coordinates&quot;: [6.670333, 44.561], &quot;type&quot;: &quot;Point&quot;}, &quot;properties&quot;: {&quot;Altitude&quot;: &quot;2222&quot;, &quot;ID&quot;: &quot;07929&quot;, &quot;Latitude&quot;: &quot;44.561000&quot;, &quot;Longitude&quot;: &quot;6.670333&quot;, &quot;Nom&quot;: &quot;VARS&quot;}, &quot;type&quot;: &quot;Feature&quot;}, {&quot;geometry&quot;: {&quot;coordinates&quot;: [6.776167, 44.671167], &quot;type&quot;: &quot;Point&quot;}, &quot;properties&quot;: {&quot;Altitude&quot;: &quot;1665&quot;, &quot;ID&quot;: &quot;07931&quot;, &quot;Latitude&quot;: &quot;44.671167&quot;, &quot;Longitude&quot;: &quot;6.776167&quot;, &quot;Nom&quot;: &quot;CEILLAC_NIVO&quot;}, &quot;type&quot;: &quot;Feature&quot;}, {&quot;geometry&quot;: {&quot;coordinates&quot;: [6.843333, 44.593], &quot;type&quot;: &quot;Point&quot;}, &quot;properties&quot;: {&quot;Altitude&quot;: &quot;1908&quot;, &quot;ID&quot;: &quot;07933&quot;, &quot;Latitude&quot;: &quot;44.593000&quot;, &quot;Longitude&quot;: &quot;6.843333&quot;, &quot;Nom&quot;: &quot;Maljasset&quot;}, &quot;type&quot;: &quot;Feature&quot;}, {&quot;geometry&quot;: {&quot;coordinates&quot;: [6.867833, 44.705167], &quot;type&quot;: &quot;Point&quot;}, &quot;properties&quot;: {&quot;Altitude&quot;: &quot;2140&quot;, &quot;ID&quot;: &quot;07935&quot;, &quot;Latitude&quot;: &quot;44.705167&quot;, &quot;Longitude&quot;: &quot;6.867833&quot;, &quot;Nom&quot;: &quot;ST VERAN RM&quot;}, &quot;type&quot;: &quot;Feature&quot;}, {&quot;geometry&quot;: {&quot;coordinates&quot;: [6.946167, 44.7935], &quot;type&quot;: &quot;Point&quot;}, &quot;properties&quot;: {&quot;Altitude&quot;: &quot;2020&quot;, &quot;ID&quot;: &quot;07936&quot;, &quot;Latitude&quot;: &quot;44.793500&quot;, &quot;Longitude&quot;: &quot;6.946167&quot;, &quot;Nom&quot;: &quot;ABRIES RM&quot;}, &quot;type&quot;: &quot;Feature&quot;}, {&quot;geometry&quot;: {&quot;coordinates&quot;: [7.149, 44.1895], &quot;type&quot;: &quot;Point&quot;}, &quot;properties&quot;: {&quot;Altitude&quot;: &quot;1912&quot;, &quot;ID&quot;: &quot;07939&quot;, &quot;Latitude&quot;: &quot;44.189500&quot;, &quot;Longitude&quot;: &quot;7.149000&quot;, &quot;Nom&quot;: &quot;ISOLA&quot;}, &quot;type&quot;: &quot;Feature&quot;}, {&quot;geometry&quot;: {&quot;coordinates&quot;: [6.561667, 44.289833], &quot;type&quot;: &quot;Point&quot;}, &quot;properties&quot;: {&quot;Altitude&quot;: &quot;1900&quot;, &quot;ID&quot;: &quot;07940&quot;, &quot;Latitude&quot;: &quot;44.289833&quot;, &quot;Longitude&quot;: &quot;6.561667&quot;, &quot;Nom&quot;: &quot;La Foux d Allos&quot;}, &quot;type&quot;: &quot;Feature&quot;}, {&quot;geometry&quot;: {&quot;coordinates&quot;: [6.941333, 44.087], &quot;type&quot;: &quot;Point&quot;}, &quot;properties&quot;: {&quot;Altitude&quot;: &quot;1630&quot;, &quot;ID&quot;: &quot;07941&quot;, &quot;Latitude&quot;: &quot;44.087000&quot;, &quot;Longitude&quot;: &quot;6.941333&quot;, &quot;Nom&quot;: &quot;Valberg&quot;}, &quot;type&quot;: &quot;Feature&quot;}, {&quot;geometry&quot;: {&quot;coordinates&quot;: [6.9135, 44.215333], &quot;type&quot;: &quot;Point&quot;}, &quot;properties&quot;: {&quot;Altitude&quot;: &quot;1910&quot;, &quot;ID&quot;: &quot;07942&quot;, &quot;Latitude&quot;: &quot;44.215333&quot;, &quot;Longitude&quot;: &quot;6.913500&quot;, &quot;Nom&quot;: &quot;Auron&quot;}, &quot;type&quot;: &quot;Feature&quot;}, {&quot;geometry&quot;: {&quot;coordinates&quot;: [-0.748167, 42.9785], &quot;type&quot;: &quot;Point&quot;}, &quot;properties&quot;: {&quot;Altitude&quot;: &quot;1650&quot;, &quot;ID&quot;: &quot;07943&quot;, &quot;Latitude&quot;: &quot;42.978500&quot;, &quot;Longitude&quot;: &quot;-0.748167&quot;, &quot;Nom&quot;: &quot;ARETTE LA-PIERRE-SAINT-MARTIN&quot;}, &quot;type&quot;: &quot;Feature&quot;}, {&quot;geometry&quot;: {&quot;coordinates&quot;: [6.487167, 44.870833], &quot;type&quot;: &quot;Point&quot;}, &quot;properties&quot;: {&quot;Altitude&quot;: &quot;1270&quot;, &quot;ID&quot;: &quot;07945&quot;, &quot;Latitude&quot;: &quot;44.870833&quot;, &quot;Longitude&quot;: &quot;6.487167&quot;, &quot;Nom&quot;: &quot;PELVOUX ST ANTOINE&quot;}, &quot;type&quot;: &quot;Feature&quot;}, {&quot;geometry&quot;: {&quot;coordinates&quot;: [-0.388167, 42.9015], &quot;type&quot;: &quot;Point&quot;}, &quot;properties&quot;: {&quot;Altitude&quot;: &quot;1860&quot;, &quot;ID&quot;: &quot;07949&quot;, &quot;Latitude&quot;: &quot;42.901500&quot;, &quot;Longitude&quot;: &quot;-0.388167&quot;, &quot;Nom&quot;: &quot;Artouste&quot;}, &quot;type&quot;: &quot;Feature&quot;}, {&quot;geometry&quot;: {&quot;coordinates&quot;: [-0.331667, 42.950333], &quot;type&quot;: &quot;Point&quot;}, &quot;properties&quot;: {&quot;Altitude&quot;: &quot;1590&quot;, &quot;ID&quot;: &quot;07950&quot;, &quot;Latitude&quot;: &quot;42.950333&quot;, &quot;Longitude&quot;: &quot;-0.331667&quot;, &quot;Nom&quot;: &quot;Gourette&quot;}, &quot;type&quot;: &quot;Feature&quot;}, {&quot;geometry&quot;: {&quot;coordinates&quot;: [-0.158167, 42.879667], &quot;type&quot;: &quot;Point&quot;}, &quot;properties&quot;: {&quot;Altitude&quot;: &quot;1920&quot;, &quot;ID&quot;: &quot;07952&quot;, &quot;Latitude&quot;: &quot;42.879667&quot;, &quot;Longitude&quot;: &quot;-0.158167&quot;, &quot;Nom&quot;: &quot;CAUTERETS_LYS&quot;}, &quot;type&quot;: &quot;Feature&quot;}, {&quot;geometry&quot;: {&quot;coordinates&quot;: [-0.063833, 42.881], &quot;type&quot;: &quot;Point&quot;}, &quot;properties&quot;: {&quot;Altitude&quot;: &quot;1800&quot;, &quot;ID&quot;: &quot;07953&quot;, &quot;Latitude&quot;: &quot;42.881000&quot;, &quot;Longitude&quot;: &quot;-0.063833&quot;, &quot;Nom&quot;: &quot;Luz Ardiden&quot;}, &quot;type&quot;: &quot;Feature&quot;}, {&quot;geometry&quot;: {&quot;coordinates&quot;: [0.55, 42.828333], &quot;type&quot;: &quot;Point&quot;}, &quot;properties&quot;: {&quot;Altitude&quot;: &quot;1107&quot;, &quot;ID&quot;: &quot;07954&quot;, &quot;Latitude&quot;: &quot;42.828333&quot;, &quot;Longitude&quot;: &quot;0.550000&quot;, &quot;Nom&quot;: &quot;St Paul d Oueil&quot;}, &quot;type&quot;: &quot;Feature&quot;}, {&quot;geometry&quot;: {&quot;coordinates&quot;: [-0.031167, 42.729167], &quot;type&quot;: &quot;Point&quot;}, &quot;properties&quot;: {&quot;Altitude&quot;: &quot;1840&quot;, &quot;ID&quot;: &quot;07955&quot;, &quot;Latitude&quot;: &quot;42.729167&quot;, &quot;Longitude&quot;: &quot;-0.031167&quot;, &quot;Nom&quot;: &quot;GAVARNIE_ESPECIERES&quot;}, &quot;type&quot;: &quot;Feature&quot;}, {&quot;geometry&quot;: {&quot;coordinates&quot;: [0.130833, 42.9055], &quot;type&quot;: &quot;Point&quot;}, &quot;properties&quot;: {&quot;Altitude&quot;: &quot;1740&quot;, &quot;ID&quot;: &quot;07957&quot;, &quot;Latitude&quot;: &quot;42.905500&quot;, &quot;Longitude&quot;: &quot;0.130833&quot;, &quot;Nom&quot;: &quot;Bareges&quot;}, &quot;type&quot;: &quot;Feature&quot;}, {&quot;geometry&quot;: {&quot;coordinates&quot;: [0.16, 42.782167], &quot;type&quot;: &quot;Point&quot;}, &quot;properties&quot;: {&quot;Altitude&quot;: &quot;1860&quot;, &quot;ID&quot;: &quot;07959&quot;, &quot;Latitude&quot;: &quot;42.782167&quot;, &quot;Longitude&quot;: &quot;0.160000&quot;, &quot;Nom&quot;: &quot;Piau&quot;}, &quot;type&quot;: &quot;Feature&quot;}, {&quot;geometry&quot;: {&quot;coordinates&quot;: [0.456167, 42.9435], &quot;type&quot;: &quot;Point&quot;}, &quot;properties&quot;: {&quot;Altitude&quot;: &quot;1590&quot;, &quot;ID&quot;: &quot;07960&quot;, &quot;Latitude&quot;: &quot;42.943500&quot;, &quot;Longitude&quot;: &quot;0.456167&quot;, &quot;Nom&quot;: &quot;Nistos&quot;}, &quot;type&quot;: &quot;Feature&quot;}, {&quot;geometry&quot;: {&quot;coordinates&quot;: [0.254667, 42.8165], &quot;type&quot;: &quot;Point&quot;}, &quot;properties&quot;: {&quot;Altitude&quot;: &quot;2085&quot;, &quot;ID&quot;: &quot;07964&quot;, &quot;Latitude&quot;: &quot;42.816500&quot;, &quot;Longitude&quot;: &quot;0.254667&quot;, &quot;Nom&quot;: &quot;ST LARY LITA&quot;}, &quot;type&quot;: &quot;Feature&quot;}, {&quot;geometry&quot;: {&quot;coordinates&quot;: [0.388, 42.791167], &quot;type&quot;: &quot;Point&quot;}, &quot;properties&quot;: {&quot;Altitude&quot;: &quot;1460&quot;, &quot;ID&quot;: &quot;07965&quot;, &quot;Latitude&quot;: &quot;42.791167&quot;, &quot;Longitude&quot;: &quot;0.388000&quot;, &quot;Nom&quot;: &quot;Val Louron&quot;}, &quot;type&quot;: &quot;Feature&quot;}, {&quot;geometry&quot;: {&quot;coordinates&quot;: [0.934667, 42.835333], &quot;type&quot;: &quot;Point&quot;}, &quot;properties&quot;: {&quot;Altitude&quot;: &quot;1000&quot;, &quot;ID&quot;: &quot;07966&quot;, &quot;Latitude&quot;: &quot;42.835333&quot;, &quot;Longitude&quot;: &quot;0.934667&quot;, &quot;Nom&quot;: &quot;SENTEIN EYLIE HAUT&quot;}, &quot;type&quot;: &quot;Feature&quot;}, {&quot;geometry&quot;: {&quot;coordinates&quot;: [0.477667, 42.786833], &quot;type&quot;: &quot;Point&quot;}, &quot;properties&quot;: {&quot;Altitude&quot;: &quot;1569&quot;, &quot;ID&quot;: &quot;07968&quot;, &quot;Latitude&quot;: &quot;42.786833&quot;, &quot;Longitude&quot;: &quot;0.477667&quot;, &quot;Nom&quot;: &quot;Les Agudes&quot;}, &quot;type&quot;: &quot;Feature&quot;}, {&quot;geometry&quot;: {&quot;coordinates&quot;: [0.576333, 42.7705], &quot;type&quot;: &quot;Point&quot;}, &quot;properties&quot;: {&quot;Altitude&quot;: &quot;1763&quot;, &quot;ID&quot;: &quot;07969&quot;, &quot;Latitude&quot;: &quot;42.770500&quot;, &quot;Longitude&quot;: &quot;0.576333&quot;, &quot;Nom&quot;: &quot;Superbagneres&quot;}, &quot;type&quot;: &quot;Feature&quot;}, {&quot;geometry&quot;: {&quot;coordinates&quot;: [1.690667, 42.724], &quot;type&quot;: &quot;Point&quot;}, &quot;properties&quot;: {&quot;Altitude&quot;: &quot;1789&quot;, &quot;ID&quot;: &quot;07970&quot;, &quot;Latitude&quot;: &quot;42.724000&quot;, &quot;Longitude&quot;: &quot;1.690667&quot;, &quot;Nom&quot;: &quot;Beille&quot;}, &quot;type&quot;: &quot;Feature&quot;}, {&quot;geometry&quot;: {&quot;coordinates&quot;: [1.300833, 42.778833], &quot;type&quot;: &quot;Point&quot;}, &quot;properties&quot;: {&quot;Altitude&quot;: &quot;1384&quot;, &quot;ID&quot;: &quot;07971&quot;, &quot;Latitude&quot;: &quot;42.778833&quot;, &quot;Longitude&quot;: &quot;1.300833&quot;, &quot;Nom&quot;: &quot;Guzet&quot;}, &quot;type&quot;: &quot;Feature&quot;}, {&quot;geometry&quot;: {&quot;coordinates&quot;: [1.7965, 42.692333], &quot;type&quot;: &quot;Point&quot;}, &quot;properties&quot;: {&quot;Altitude&quot;: &quot;1715&quot;, &quot;ID&quot;: &quot;07972&quot;, &quot;Latitude&quot;: &quot;42.692333&quot;, &quot;Longitude&quot;: &quot;1.796500&quot;, &quot;Nom&quot;: &quot;Ax Bonascre&quot;}, &quot;type&quot;: &quot;Feature&quot;}, {&quot;geometry&quot;: {&quot;coordinates&quot;: [1.744167, 42.843833], &quot;type&quot;: &quot;Point&quot;}, &quot;properties&quot;: {&quot;Altitude&quot;: &quot;1472&quot;, &quot;ID&quot;: &quot;07973&quot;, &quot;Latitude&quot;: &quot;42.843833&quot;, &quot;Longitude&quot;: &quot;1.744167&quot;, &quot;Nom&quot;: &quot;Mont d Olmes&quot;}, &quot;type&quot;: &quot;Feature&quot;}, {&quot;geometry&quot;: {&quot;coordinates&quot;: [1.954, 42.730333], &quot;type&quot;: &quot;Point&quot;}, &quot;properties&quot;: {&quot;Altitude&quot;: &quot;1500&quot;, &quot;ID&quot;: &quot;07974&quot;, &quot;Latitude&quot;: &quot;42.730333&quot;, &quot;Longitude&quot;: &quot;1.954000&quot;, &quot;Nom&quot;: &quot;Ascou Pailheres&quot;}, &quot;type&quot;: &quot;Feature&quot;}, {&quot;geometry&quot;: {&quot;coordinates&quot;: [1.800333, 42.590167], &quot;type&quot;: &quot;Point&quot;}, &quot;properties&quot;: {&quot;Altitude&quot;: &quot;1420&quot;, &quot;ID&quot;: &quot;07975&quot;, &quot;Latitude&quot;: &quot;42.590167&quot;, &quot;Longitude&quot;: &quot;1.800333&quot;, &quot;Nom&quot;: &quot;L Hospitalet&quot;}, &quot;type&quot;: &quot;Feature&quot;}, {&quot;geometry&quot;: {&quot;coordinates&quot;: [2.017, 42.7265], &quot;type&quot;: &quot;Point&quot;}, &quot;properties&quot;: {&quot;Altitude&quot;: &quot;1530&quot;, &quot;ID&quot;: &quot;07976&quot;, &quot;Latitude&quot;: &quot;42.726500&quot;, &quot;Longitude&quot;: &quot;2.017000&quot;, &quot;Nom&quot;: &quot;Mijanes&quot;}, &quot;type&quot;: &quot;Feature&quot;}, {&quot;geometry&quot;: {&quot;coordinates&quot;: [1.789, 42.551667], &quot;type&quot;: &quot;Point&quot;}, &quot;properties&quot;: {&quot;Altitude&quot;: &quot;2087&quot;, &quot;ID&quot;: &quot;07977&quot;, &quot;Latitude&quot;: &quot;42.551667&quot;, &quot;Longitude&quot;: &quot;1.789000&quot;, &quot;Nom&quot;: &quot;PORTE-PUYMORENS&quot;}, &quot;type&quot;: &quot;Feature&quot;}, {&quot;geometry&quot;: {&quot;coordinates&quot;: [1.381167, 42.807167], &quot;type&quot;: &quot;Point&quot;}, &quot;properties&quot;: {&quot;Altitude&quot;: &quot;1280&quot;, &quot;ID&quot;: &quot;07978&quot;, &quot;Latitude&quot;: &quot;42.807167&quot;, &quot;Longitude&quot;: &quot;1.381167&quot;, &quot;Nom&quot;: &quot;Etang de L Hers&quot;}, &quot;type&quot;: &quot;Feature&quot;}, {&quot;geometry&quot;: {&quot;coordinates&quot;: [2.031833, 42.531833], &quot;type&quot;: &quot;Point&quot;}, &quot;properties&quot;: {&quot;Altitude&quot;: &quot;2124&quot;, &quot;ID&quot;: &quot;07980&quot;, &quot;Latitude&quot;: &quot;42.531833&quot;, &quot;Longitude&quot;: &quot;2.031833&quot;, &quot;Nom&quot;: &quot;FONT-ROMEU-GALINERA&quot;}, &quot;type&quot;: &quot;Feature&quot;}, {&quot;geometry&quot;: {&quot;coordinates&quot;: [2.051667, 42.571667], &quot;type&quot;: &quot;Point&quot;}, &quot;properties&quot;: {&quot;Altitude&quot;: &quot;2108&quot;, &quot;ID&quot;: &quot;07981&quot;, &quot;Latitude&quot;: &quot;42.571667&quot;, &quot;Longitude&quot;: &quot;2.051667&quot;, &quot;Nom&quot;: &quot;Les Angles&quot;}, &quot;type&quot;: &quot;Feature&quot;}, {&quot;geometry&quot;: {&quot;coordinates&quot;: [2.068333, 42.623667], &quot;type&quot;: &quot;Point&quot;}, &quot;properties&quot;: {&quot;Altitude&quot;: &quot;1753&quot;, &quot;ID&quot;: &quot;07982&quot;, &quot;Latitude&quot;: &quot;42.623667&quot;, &quot;Longitude&quot;: &quot;2.068333&quot;, &quot;Nom&quot;: &quot;FORMIGUERE&quot;}, &quot;type&quot;: &quot;Feature&quot;}, {&quot;geometry&quot;: {&quot;coordinates&quot;: [2.117667, 42.472833], &quot;type&quot;: &quot;Point&quot;}, &quot;properties&quot;: {&quot;Altitude&quot;: &quot;1941&quot;, &quot;ID&quot;: &quot;07984&quot;, &quot;Latitude&quot;: &quot;42.472833&quot;, &quot;Longitude&quot;: &quot;2.117667&quot;, &quot;Nom&quot;: &quot;ST PIERRE DELS FORCATS&quot;}, &quot;type&quot;: &quot;Feature&quot;}, {&quot;geometry&quot;: {&quot;coordinates&quot;: [8.891667, 42.286833], &quot;type&quot;: &quot;Point&quot;}, &quot;properties&quot;: {&quot;Altitude&quot;: &quot;1420&quot;, &quot;ID&quot;: &quot;07985&quot;, &quot;Latitude&quot;: &quot;42.286833&quot;, &quot;Longitude&quot;: &quot;8.891667&quot;, &quot;Nom&quot;: &quot;Vergio&quot;}, &quot;type&quot;: &quot;Feature&quot;}, {&quot;geometry&quot;: {&quot;coordinates&quot;: [9.123167, 41.999333], &quot;type&quot;: &quot;Point&quot;}, &quot;properties&quot;: {&quot;Altitude&quot;: &quot;1623&quot;, &quot;ID&quot;: &quot;07986&quot;, &quot;Latitude&quot;: &quot;41.999333&quot;, &quot;Longitude&quot;: &quot;9.123167&quot;, &quot;Nom&quot;: &quot;Bastelica&quot;}, &quot;type&quot;: &quot;Feature&quot;}, {&quot;geometry&quot;: {&quot;coordinates&quot;: [8.922667, 42.402667], &quot;type&quot;: &quot;Point&quot;}, &quot;properties&quot;: {&quot;Altitude&quot;: &quot;1434&quot;, &quot;ID&quot;: &quot;07987&quot;, &quot;Latitude&quot;: &quot;42.402667&quot;, &quot;Longitude&quot;: &quot;8.922667&quot;, &quot;Nom&quot;: &quot;ASCO-STAGNU&quot;}, &quot;type&quot;: &quot;Feature&quot;}, {&quot;geometry&quot;: {&quot;coordinates&quot;: [9.147167, 42.077], &quot;type&quot;: &quot;Point&quot;}, &quot;properties&quot;: {&quot;Altitude&quot;: &quot;1670&quot;, &quot;ID&quot;: &quot;07989&quot;, &quot;Latitude&quot;: &quot;42.077000&quot;, &quot;Longitude&quot;: &quot;9.147167&quot;, &quot;Nom&quot;: &quot;GHISONI-CAPAGHJOLU&quot;}, &quot;type&quot;: &quot;Feature&quot;}, {&quot;geometry&quot;: {&quot;coordinates&quot;: [6.84, 47.818333], &quot;type&quot;: &quot;Point&quot;}, &quot;properties&quot;: {&quot;Altitude&quot;: &quot;1120&quot;, &quot;ID&quot;: &quot;&quot;, &quot;Latitude&quot;: &quot;47.818333&quot;, &quot;Longitude&quot;: &quot;6.840000&quot;, &quot;Nom&quot;: &quot;BALLON D\\u0027ALSACE&quot;}, &quot;type&quot;: &quot;Feature&quot;}, {&quot;geometry&quot;: {&quot;coordinates&quot;: [6.121667, 46.563333], &quot;type&quot;: &quot;Point&quot;}, &quot;properties&quot;: {&quot;Altitude&quot;: &quot;1230&quot;, &quot;ID&quot;: &quot;&quot;, &quot;Latitude&quot;: &quot;46.563333&quot;, &quot;Longitude&quot;: &quot;6.121667&quot;, &quot;Nom&quot;: &quot;BOIS D\\u0027AMONT CHALET-GAILLARD&quot;}, &quot;type&quot;: &quot;Feature&quot;}, {&quot;geometry&quot;: {&quot;coordinates&quot;: [6.116667, 46.6], &quot;type&quot;: &quot;Point&quot;}, &quot;properties&quot;: {&quot;Altitude&quot;: &quot;1100&quot;, &quot;ID&quot;: &quot;&quot;, &quot;Latitude&quot;: &quot;46.600000&quot;, &quot;Longitude&quot;: &quot;6.116667&quot;, &quot;Nom&quot;: &quot;CHAPELLE&quot;}, &quot;type&quot;: &quot;Feature&quot;}, {&quot;geometry&quot;: {&quot;coordinates&quot;: [1.53, 42.51], &quot;type&quot;: &quot;Point&quot;}, &quot;properties&quot;: {&quot;Altitude&quot;: &quot;1105&quot;, &quot;ID&quot;: &quot;&quot;, &quot;Latitude&quot;: &quot;42.510000&quot;, &quot;Longitude&quot;: &quot;1.530000&quot;, &quot;Nom&quot;: &quot;ANDORRE LA VIEILLE&quot;}, &quot;type&quot;: &quot;Feature&quot;}], &quot;type&quot;: &quot;FeatureCollection&quot;});\n\n        \n&lt;/script&gt;\n&lt;/html&gt;\" style=\"position:absolute;width:100%;height:100%;left:0;top:0;border:none !important;\" allowfullscreen webkitallowfullscreen mozallowfullscreen></iframe></div></div>"
     },
     "execution_count": 124,
     "metadata": {},
     "output_type": "execute_result"
    }
   ],
   "source": [
    "import folium\n",
    "\n",
    "m = folium.Map(width='100%', height='100%', location=[48.856578, 2.351828], zoom_start=6, tiles='Stamen Terrain',\n",
    "               attr='Snow Sensors')\n",
    "folium.GeoJson('../data/postesNivo.json', name='geojson').add_to(m)\n",
    "m"
   ]
  },
  {
   "cell_type": "markdown",
   "metadata": {
    "pycharm": {
     "name": "#%% md\n"
    }
   },
   "source": [
    "\n",
    "Meteo France provides a file per month since 2010 with measurements coming from each of these snow sensors. As an example, let's load the file containing observations for january 2018 in a dataframe and prints its content."
   ]
  },
  {
   "cell_type": "code",
   "execution_count": 125,
   "metadata": {
    "pycharm": {
     "name": "#%%\n"
    }
   },
   "outputs": [
    {
     "data": {
      "text/plain": "   numer_sta                date  haut_sta   dd        ff           t  \\\n0       7590 2018-01-01 07:10:00    1270.0    0  0.000000  274.250000   \n1       7818 2018-01-01 07:10:00    1250.0  360  2.000000  271.150000   \n2       7856 2018-01-01 06:30:00    1620.0    0  0.000000  270.350000   \n3       7888 2018-01-01 06:15:00    1800.0    0  0.000000  269.350000   \n4       7895 2018-01-01 06:40:00    1970.0    0  0.000000  268.150000   \n\n           td   u  ww w1  ... ht_neige_alti neige_fraiche teneur_eau  \\\n0  273.540000  95   0  7  ...            mq            mq         mq   \n1  268.160000  80   0  7  ...            mq            mq         mq   \n2  269.660000  95  70  0  ...      3.100000      0.200000         mq   \n3  267.950000  90   0  7  ...            mq            mq         mq   \n4  267.330000  94  70  7  ...            mq            mq         mq   \n\n  grain_predom grain_nombre grain_diametr homogeneite m_vol_neige Unnamed: 48  \\\n0           mq           mq            mq          mq          mq         NaN   \n1           mq           mq            mq          mq          mq         NaN   \n2            1            9            mq           0   80.000000         NaN   \n3            1            2            mq           0  100.000000         NaN   \n4            1            1            mq          mq          mq         NaN   \n\n  Unnamed: 49  \n0         NaN  \n1         NaN  \n2         NaN  \n3         NaN  \n4         NaN  \n\n[5 rows x 50 columns]",
      "text/html": "<div>\n<style scoped>\n    .dataframe tbody tr th:only-of-type {\n        vertical-align: middle;\n    }\n\n    .dataframe tbody tr th {\n        vertical-align: top;\n    }\n\n    .dataframe thead th {\n        text-align: right;\n    }\n</style>\n<table border=\"1\" class=\"dataframe\">\n  <thead>\n    <tr style=\"text-align: right;\">\n      <th></th>\n      <th>numer_sta</th>\n      <th>date</th>\n      <th>haut_sta</th>\n      <th>dd</th>\n      <th>ff</th>\n      <th>t</th>\n      <th>td</th>\n      <th>u</th>\n      <th>ww</th>\n      <th>w1</th>\n      <th>...</th>\n      <th>ht_neige_alti</th>\n      <th>neige_fraiche</th>\n      <th>teneur_eau</th>\n      <th>grain_predom</th>\n      <th>grain_nombre</th>\n      <th>grain_diametr</th>\n      <th>homogeneite</th>\n      <th>m_vol_neige</th>\n      <th>Unnamed: 48</th>\n      <th>Unnamed: 49</th>\n    </tr>\n  </thead>\n  <tbody>\n    <tr>\n      <th>0</th>\n      <td>7590</td>\n      <td>2018-01-01 07:10:00</td>\n      <td>1270.0</td>\n      <td>0</td>\n      <td>0.000000</td>\n      <td>274.250000</td>\n      <td>273.540000</td>\n      <td>95</td>\n      <td>0</td>\n      <td>7</td>\n      <td>...</td>\n      <td>mq</td>\n      <td>mq</td>\n      <td>mq</td>\n      <td>mq</td>\n      <td>mq</td>\n      <td>mq</td>\n      <td>mq</td>\n      <td>mq</td>\n      <td>NaN</td>\n      <td>NaN</td>\n    </tr>\n    <tr>\n      <th>1</th>\n      <td>7818</td>\n      <td>2018-01-01 07:10:00</td>\n      <td>1250.0</td>\n      <td>360</td>\n      <td>2.000000</td>\n      <td>271.150000</td>\n      <td>268.160000</td>\n      <td>80</td>\n      <td>0</td>\n      <td>7</td>\n      <td>...</td>\n      <td>mq</td>\n      <td>mq</td>\n      <td>mq</td>\n      <td>mq</td>\n      <td>mq</td>\n      <td>mq</td>\n      <td>mq</td>\n      <td>mq</td>\n      <td>NaN</td>\n      <td>NaN</td>\n    </tr>\n    <tr>\n      <th>2</th>\n      <td>7856</td>\n      <td>2018-01-01 06:30:00</td>\n      <td>1620.0</td>\n      <td>0</td>\n      <td>0.000000</td>\n      <td>270.350000</td>\n      <td>269.660000</td>\n      <td>95</td>\n      <td>70</td>\n      <td>0</td>\n      <td>...</td>\n      <td>3.100000</td>\n      <td>0.200000</td>\n      <td>mq</td>\n      <td>1</td>\n      <td>9</td>\n      <td>mq</td>\n      <td>0</td>\n      <td>80.000000</td>\n      <td>NaN</td>\n      <td>NaN</td>\n    </tr>\n    <tr>\n      <th>3</th>\n      <td>7888</td>\n      <td>2018-01-01 06:15:00</td>\n      <td>1800.0</td>\n      <td>0</td>\n      <td>0.000000</td>\n      <td>269.350000</td>\n      <td>267.950000</td>\n      <td>90</td>\n      <td>0</td>\n      <td>7</td>\n      <td>...</td>\n      <td>mq</td>\n      <td>mq</td>\n      <td>mq</td>\n      <td>1</td>\n      <td>2</td>\n      <td>mq</td>\n      <td>0</td>\n      <td>100.000000</td>\n      <td>NaN</td>\n      <td>NaN</td>\n    </tr>\n    <tr>\n      <th>4</th>\n      <td>7895</td>\n      <td>2018-01-01 06:40:00</td>\n      <td>1970.0</td>\n      <td>0</td>\n      <td>0.000000</td>\n      <td>268.150000</td>\n      <td>267.330000</td>\n      <td>94</td>\n      <td>70</td>\n      <td>7</td>\n      <td>...</td>\n      <td>mq</td>\n      <td>mq</td>\n      <td>mq</td>\n      <td>1</td>\n      <td>1</td>\n      <td>mq</td>\n      <td>mq</td>\n      <td>mq</td>\n      <td>NaN</td>\n      <td>NaN</td>\n    </tr>\n  </tbody>\n</table>\n<p>5 rows × 50 columns</p>\n</div>"
     },
     "execution_count": 125,
     "metadata": {},
     "output_type": "execute_result"
    }
   ],
   "source": [
    "import pandas\n",
    "\n",
    "measurements_201801 = pandas.read_csv('../data/nivo.201801.csv', delimiter=';', parse_dates=['date'])\n",
    "measurements_201801.head()"
   ]
  },
  {
   "cell_type": "markdown",
   "metadata": {
    "pycharm": {
     "name": "#%% md\n"
    }
   },
   "source": [
    "As previously emphasized, several measures are given every 12 hours such as :\n",
    "* haut_sta : the altitude of the observation ;\n",
    "* t : the temperature (in Kelvin) ;\n",
    "* neige_fraiche : the quantity of new snow (in meters) since the last observations ;\n",
    "* ht_neige : the quantity of snow (in meters).\n",
    "\n",
    "The latitude, longitude, altitude, name of each snow sensors are also provided in a csv file and can thus be used to obtain the location of the measurements. Let's load this file in a dataframe and prints its content."
   ]
  },
  {
   "cell_type": "code",
   "execution_count": 126,
   "metadata": {
    "pycharm": {
     "name": "#%%\n"
    }
   },
   "outputs": [
    {
     "data": {
      "text/plain": "    Latitude  Longitude      ID  Altitude               Nom\n0  46.766000   6.359167  7392.0      1036  METABIEF_STATION\n1  46.020833   6.970833  7393.0      2196     LE TOUR BALME\n2  46.341167   6.708167  7454.0      1535            Bernex\n3  45.247667   6.732667  7456.0      2166           Aussois\n4  46.315333   6.673333  7457.0       790   VACHERESSE AUXI",
      "text/html": "<div>\n<style scoped>\n    .dataframe tbody tr th:only-of-type {\n        vertical-align: middle;\n    }\n\n    .dataframe tbody tr th {\n        vertical-align: top;\n    }\n\n    .dataframe thead th {\n        text-align: right;\n    }\n</style>\n<table border=\"1\" class=\"dataframe\">\n  <thead>\n    <tr style=\"text-align: right;\">\n      <th></th>\n      <th>Latitude</th>\n      <th>Longitude</th>\n      <th>ID</th>\n      <th>Altitude</th>\n      <th>Nom</th>\n    </tr>\n  </thead>\n  <tbody>\n    <tr>\n      <th>0</th>\n      <td>46.766000</td>\n      <td>6.359167</td>\n      <td>7392.0</td>\n      <td>1036</td>\n      <td>METABIEF_STATION</td>\n    </tr>\n    <tr>\n      <th>1</th>\n      <td>46.020833</td>\n      <td>6.970833</td>\n      <td>7393.0</td>\n      <td>2196</td>\n      <td>LE TOUR BALME</td>\n    </tr>\n    <tr>\n      <th>2</th>\n      <td>46.341167</td>\n      <td>6.708167</td>\n      <td>7454.0</td>\n      <td>1535</td>\n      <td>Bernex</td>\n    </tr>\n    <tr>\n      <th>3</th>\n      <td>45.247667</td>\n      <td>6.732667</td>\n      <td>7456.0</td>\n      <td>2166</td>\n      <td>Aussois</td>\n    </tr>\n    <tr>\n      <th>4</th>\n      <td>46.315333</td>\n      <td>6.673333</td>\n      <td>7457.0</td>\n      <td>790</td>\n      <td>VACHERESSE AUXI</td>\n    </tr>\n  </tbody>\n</table>\n</div>"
     },
     "execution_count": 126,
     "metadata": {},
     "output_type": "execute_result"
    }
   ],
   "source": [
    "stations = pandas.read_csv('../data/postesNivo.csv', delimiter=',')\n",
    "stations.head()"
   ]
  },
  {
   "cell_type": "markdown",
   "metadata": {
    "pycharm": {
     "name": "#%% md\n"
    }
   },
   "source": [
    "We propose to aggregate all measurements in a dataframe and to join them with the list of snow sensors in order to put all the observations of all stations in a single dataframe."
   ]
  },
  {
   "cell_type": "code",
   "execution_count": 127,
   "metadata": {
    "pycharm": {
     "name": "#%%\n"
    }
   },
   "outputs": [],
   "source": [
    "import glob\n",
    "\n",
    "path = '../data/'\n",
    "nivo_files = [f for f in glob.glob(path + 'nivo*.csv')]\n",
    "li = [pandas.read_csv(filename, delimiter=';', parse_dates=['date']) for filename in nivo_files]\n",
    "finalMeasurements = pandas.concat(li, ignore_index=True)"
   ]
  },
  {
   "cell_type": "markdown",
   "metadata": {
    "pycharm": {
     "name": "#%% md\n"
    }
   },
   "source": [
    "If one wants to list all observations for [Tignes](https://www.tignes.net/) ski resort, pattern matching on the ski resort name is enough."
   ]
  },
  {
   "cell_type": "code",
   "execution_count": 128,
   "metadata": {
    "pycharm": {
     "name": "#%%\n"
    }
   },
   "outputs": [
    {
     "data": {
      "text/plain": "       numer_sta                 date haut_sta   dd        ff           t  \\\n21          7904  2010-12-01 07:00:00   2080.0  360  2.000000  267.650000   \n41          7904  2010-12-01 12:00:00   2080.0    0  0.000000  268.550000   \n64          7904  2010-12-02 07:00:00   2080.0    0  0.000000  257.150000   \n85          7904  2010-12-02 12:00:00   2080.0    0  0.000000  263.350000   \n116         7904  2010-12-03 07:00:00   2080.0    0  0.000000  257.650000   \n...          ...                  ...      ...  ...       ...         ...   \n233116      7904  2021-12-28 06:00:00   2080.0    0  0.000000  271.050000   \n233259      7904  2021-12-29 05:30:00   2080.0   90  2.000000  271.550000   \n233319      7904  2021-12-29 12:30:00   2080.0    0  0.000000  273.250000   \n233399      7904  2021-12-30 09:30:00   2080.0    0  0.000000  271.950000   \n233498      7904  2021-12-31 06:45:00   2080.0    0  0.000000  268.650000   \n\n                td   u  ww w1  ... ht_neige_alti neige_fraiche teneur_eau  \\\n21      265.980000  88  70  7  ...            mq            mq         mq   \n41      265.460000  79  70  7  ...            mq            mq         mq   \n64      249.970000  54   0  7  ...            mq            mq         mq   \n85      243.440000  18   0  0  ...            mq            mq         mq   \n116     251.640000  60   0  0  ...            mq            mq         mq   \n...            ...  ..  .. ..  ...           ...           ...        ...   \n233116  270.780000  98  70  7  ...            mq            mq         mq   \n233259  271.410000  99  75  7  ...            mq            mq         mq   \n233319  273.110000  99  69  7  ...            mq            mq         mq   \n233399  271.670000  98   0  6  ...            mq            mq         mq   \n233498  263.450000  67   0  0  ...            mq            mq         mq   \n\n       grain_predom grain_nombre grain_diametr homogeneite m_vol_neige  \\\n21                2            2            mq          mq          mq   \n41                1            2            mq          mq          mq   \n64                1            1            mq           0   50.000000   \n85                1            2            mq          mq          mq   \n116               2            2            mq          mq          mq   \n...             ...          ...           ...         ...         ...   \n233116            1            1            mq           0   70.000000   \n233259            1            1            mq          mq          mq   \n233319            1            1            mq          mq          mq   \n233399            6            2            mq          mq          mq   \n233498            7            2            mq          mq          mq   \n\n       Unnamed: 48 Unnamed: 49  \n21             NaN         NaN  \n41             NaN         NaN  \n64             NaN         NaN  \n85             NaN         NaN  \n116            NaN         NaN  \n...            ...         ...  \n233116         NaN         NaN  \n233259         NaN         NaN  \n233319         NaN         NaN  \n233399         NaN         NaN  \n233498         NaN         NaN  \n\n[3035 rows x 50 columns]",
      "text/html": "<div>\n<style scoped>\n    .dataframe tbody tr th:only-of-type {\n        vertical-align: middle;\n    }\n\n    .dataframe tbody tr th {\n        vertical-align: top;\n    }\n\n    .dataframe thead th {\n        text-align: right;\n    }\n</style>\n<table border=\"1\" class=\"dataframe\">\n  <thead>\n    <tr style=\"text-align: right;\">\n      <th></th>\n      <th>numer_sta</th>\n      <th>date</th>\n      <th>haut_sta</th>\n      <th>dd</th>\n      <th>ff</th>\n      <th>t</th>\n      <th>td</th>\n      <th>u</th>\n      <th>ww</th>\n      <th>w1</th>\n      <th>...</th>\n      <th>ht_neige_alti</th>\n      <th>neige_fraiche</th>\n      <th>teneur_eau</th>\n      <th>grain_predom</th>\n      <th>grain_nombre</th>\n      <th>grain_diametr</th>\n      <th>homogeneite</th>\n      <th>m_vol_neige</th>\n      <th>Unnamed: 48</th>\n      <th>Unnamed: 49</th>\n    </tr>\n  </thead>\n  <tbody>\n    <tr>\n      <th>21</th>\n      <td>7904</td>\n      <td>2010-12-01 07:00:00</td>\n      <td>2080.0</td>\n      <td>360</td>\n      <td>2.000000</td>\n      <td>267.650000</td>\n      <td>265.980000</td>\n      <td>88</td>\n      <td>70</td>\n      <td>7</td>\n      <td>...</td>\n      <td>mq</td>\n      <td>mq</td>\n      <td>mq</td>\n      <td>2</td>\n      <td>2</td>\n      <td>mq</td>\n      <td>mq</td>\n      <td>mq</td>\n      <td>NaN</td>\n      <td>NaN</td>\n    </tr>\n    <tr>\n      <th>41</th>\n      <td>7904</td>\n      <td>2010-12-01 12:00:00</td>\n      <td>2080.0</td>\n      <td>0</td>\n      <td>0.000000</td>\n      <td>268.550000</td>\n      <td>265.460000</td>\n      <td>79</td>\n      <td>70</td>\n      <td>7</td>\n      <td>...</td>\n      <td>mq</td>\n      <td>mq</td>\n      <td>mq</td>\n      <td>1</td>\n      <td>2</td>\n      <td>mq</td>\n      <td>mq</td>\n      <td>mq</td>\n      <td>NaN</td>\n      <td>NaN</td>\n    </tr>\n    <tr>\n      <th>64</th>\n      <td>7904</td>\n      <td>2010-12-02 07:00:00</td>\n      <td>2080.0</td>\n      <td>0</td>\n      <td>0.000000</td>\n      <td>257.150000</td>\n      <td>249.970000</td>\n      <td>54</td>\n      <td>0</td>\n      <td>7</td>\n      <td>...</td>\n      <td>mq</td>\n      <td>mq</td>\n      <td>mq</td>\n      <td>1</td>\n      <td>1</td>\n      <td>mq</td>\n      <td>0</td>\n      <td>50.000000</td>\n      <td>NaN</td>\n      <td>NaN</td>\n    </tr>\n    <tr>\n      <th>85</th>\n      <td>7904</td>\n      <td>2010-12-02 12:00:00</td>\n      <td>2080.0</td>\n      <td>0</td>\n      <td>0.000000</td>\n      <td>263.350000</td>\n      <td>243.440000</td>\n      <td>18</td>\n      <td>0</td>\n      <td>0</td>\n      <td>...</td>\n      <td>mq</td>\n      <td>mq</td>\n      <td>mq</td>\n      <td>1</td>\n      <td>2</td>\n      <td>mq</td>\n      <td>mq</td>\n      <td>mq</td>\n      <td>NaN</td>\n      <td>NaN</td>\n    </tr>\n    <tr>\n      <th>116</th>\n      <td>7904</td>\n      <td>2010-12-03 07:00:00</td>\n      <td>2080.0</td>\n      <td>0</td>\n      <td>0.000000</td>\n      <td>257.650000</td>\n      <td>251.640000</td>\n      <td>60</td>\n      <td>0</td>\n      <td>0</td>\n      <td>...</td>\n      <td>mq</td>\n      <td>mq</td>\n      <td>mq</td>\n      <td>2</td>\n      <td>2</td>\n      <td>mq</td>\n      <td>mq</td>\n      <td>mq</td>\n      <td>NaN</td>\n      <td>NaN</td>\n    </tr>\n    <tr>\n      <th>...</th>\n      <td>...</td>\n      <td>...</td>\n      <td>...</td>\n      <td>...</td>\n      <td>...</td>\n      <td>...</td>\n      <td>...</td>\n      <td>...</td>\n      <td>...</td>\n      <td>...</td>\n      <td>...</td>\n      <td>...</td>\n      <td>...</td>\n      <td>...</td>\n      <td>...</td>\n      <td>...</td>\n      <td>...</td>\n      <td>...</td>\n      <td>...</td>\n      <td>...</td>\n      <td>...</td>\n    </tr>\n    <tr>\n      <th>233116</th>\n      <td>7904</td>\n      <td>2021-12-28 06:00:00</td>\n      <td>2080.0</td>\n      <td>0</td>\n      <td>0.000000</td>\n      <td>271.050000</td>\n      <td>270.780000</td>\n      <td>98</td>\n      <td>70</td>\n      <td>7</td>\n      <td>...</td>\n      <td>mq</td>\n      <td>mq</td>\n      <td>mq</td>\n      <td>1</td>\n      <td>1</td>\n      <td>mq</td>\n      <td>0</td>\n      <td>70.000000</td>\n      <td>NaN</td>\n      <td>NaN</td>\n    </tr>\n    <tr>\n      <th>233259</th>\n      <td>7904</td>\n      <td>2021-12-29 05:30:00</td>\n      <td>2080.0</td>\n      <td>90</td>\n      <td>2.000000</td>\n      <td>271.550000</td>\n      <td>271.410000</td>\n      <td>99</td>\n      <td>75</td>\n      <td>7</td>\n      <td>...</td>\n      <td>mq</td>\n      <td>mq</td>\n      <td>mq</td>\n      <td>1</td>\n      <td>1</td>\n      <td>mq</td>\n      <td>mq</td>\n      <td>mq</td>\n      <td>NaN</td>\n      <td>NaN</td>\n    </tr>\n    <tr>\n      <th>233319</th>\n      <td>7904</td>\n      <td>2021-12-29 12:30:00</td>\n      <td>2080.0</td>\n      <td>0</td>\n      <td>0.000000</td>\n      <td>273.250000</td>\n      <td>273.110000</td>\n      <td>99</td>\n      <td>69</td>\n      <td>7</td>\n      <td>...</td>\n      <td>mq</td>\n      <td>mq</td>\n      <td>mq</td>\n      <td>1</td>\n      <td>1</td>\n      <td>mq</td>\n      <td>mq</td>\n      <td>mq</td>\n      <td>NaN</td>\n      <td>NaN</td>\n    </tr>\n    <tr>\n      <th>233399</th>\n      <td>7904</td>\n      <td>2021-12-30 09:30:00</td>\n      <td>2080.0</td>\n      <td>0</td>\n      <td>0.000000</td>\n      <td>271.950000</td>\n      <td>271.670000</td>\n      <td>98</td>\n      <td>0</td>\n      <td>6</td>\n      <td>...</td>\n      <td>mq</td>\n      <td>mq</td>\n      <td>mq</td>\n      <td>6</td>\n      <td>2</td>\n      <td>mq</td>\n      <td>mq</td>\n      <td>mq</td>\n      <td>NaN</td>\n      <td>NaN</td>\n    </tr>\n    <tr>\n      <th>233498</th>\n      <td>7904</td>\n      <td>2021-12-31 06:45:00</td>\n      <td>2080.0</td>\n      <td>0</td>\n      <td>0.000000</td>\n      <td>268.650000</td>\n      <td>263.450000</td>\n      <td>67</td>\n      <td>0</td>\n      <td>0</td>\n      <td>...</td>\n      <td>mq</td>\n      <td>mq</td>\n      <td>mq</td>\n      <td>7</td>\n      <td>2</td>\n      <td>mq</td>\n      <td>mq</td>\n      <td>mq</td>\n      <td>NaN</td>\n      <td>NaN</td>\n    </tr>\n  </tbody>\n</table>\n<p>3035 rows × 50 columns</p>\n</div>"
     },
     "execution_count": 128,
     "metadata": {},
     "output_type": "execute_result"
    }
   ],
   "source": [
    "measurements = finalMeasurements.loc[finalMeasurements.numer_sta == int(stations.loc[stations.Nom == 'Tignes']['ID'])]\n",
    "measurements"
   ]
  },
  {
   "cell_type": "markdown",
   "metadata": {
    "pycharm": {
     "name": "#%% md\n"
    }
   },
   "source": [
    "## Forecasting Snow Depth\n",
    "The dataframe is used to train the prophet model and to predict daily snow depth (ht_neige) for the next five years for [Tignes](https://www.tignes.net/) ski resort. A logistic growth trend model with a lower cap of 0, a higher cap of 5 and a yearly seasonality is used. Indeed, we have not observed any patterns at week and daily levels when analysing the data. The results are visualized with [Plotly](https://plotly.com/python/)."
   ]
  },
  {
   "cell_type": "code",
   "execution_count": null,
   "metadata": {
    "pycharm": {
     "name": "#%%\n",
     "is_executing": true
    }
   },
   "outputs": [
    {
     "data": {
      "text/html": "        <script type=\"text/javascript\">\n        window.PlotlyConfig = {MathJaxConfig: 'local'};\n        if (window.MathJax && window.MathJax.Hub && window.MathJax.Hub.Config) {window.MathJax.Hub.Config({SVG: {font: \"STIX-Web\"}});}\n        if (typeof require !== 'undefined') {\n        require.undef(\"plotly\");\n        requirejs.config({\n            paths: {\n                'plotly': ['https://cdn.plot.ly/plotly-2.16.1.min']\n            }\n        });\n        require(['plotly'], function(Plotly) {\n            window._Plotly = Plotly;\n        });\n        }\n        </script>\n        "
     },
     "metadata": {},
     "output_type": "display_data"
    },
    {
     "name": "stdout",
     "output_type": "stream",
     "text": [
      "Initial log joint probability = -131.234\n",
      "    Iter      log prob        ||dx||      ||grad||       alpha      alpha0  # evals  Notes \n",
      "      99       6701.96    0.00453921        113.85           1           1      117   \n",
      "    Iter      log prob        ||dx||      ||grad||       alpha      alpha0  # evals  Notes \n",
      "     146        6705.6    0.00125446       92.4445   8.416e-06       0.001      217  LS failed, Hessian reset \n",
      "     163        6706.1   0.000116468       47.6713    3.07e-06       0.001      274  LS failed, Hessian reset \n",
      "     197       6708.09    0.00656109       187.271   5.833e-05       0.001      363  LS failed, Hessian reset \n",
      "     199       6708.52    0.00205029       106.854      0.9029      0.9029      365   \n",
      "    Iter      log prob        ||dx||      ||grad||       alpha      alpha0  # evals  Notes \n",
      "     230       6709.25   0.000848532       76.8229   1.148e-05       0.001      447  LS failed, Hessian reset \n",
      "     294       6710.72    0.00464845       193.675   5.634e-05       0.001      581  LS failed, Hessian reset \n",
      "     299       6711.22    0.00107771       74.8455      0.4517           1      587   \n",
      "    Iter      log prob        ||dx||      ||grad||       alpha      alpha0  # evals  Notes \n",
      "     338       6712.61    0.00170465       89.5325    2.35e-05       0.001      672  LS failed, Hessian reset \n",
      "     383       6712.68   9.11147e-05       54.0104   1.411e-06       0.001      771  LS failed, Hessian reset \n",
      "     399       6712.69   1.98042e-06       57.6065           1           1      795   \n",
      "    Iter      log prob        ||dx||      ||grad||       alpha      alpha0  # evals  Notes \n",
      "     429       6712.69   8.47564e-07       59.3052      0.3553           1      837   \n",
      "Optimization terminated normally: \n",
      "  Convergence detected: relative gradient magnitude is below tolerance\n"
     ]
    }
   ],
   "source": [
    "from prophet import Prophet\n",
    "from plotly import graph_objs as go\n",
    "from plotly.offline import init_notebook_mode\n",
    "import plotly.offline as py\n",
    "import warnings\n",
    "\n",
    "warnings.simplefilter(action='ignore', category=FutureWarning)\n",
    "\n",
    "init_notebook_mode(connected=True)\n",
    "\n",
    "TARGET_KEY = 'ht_neige'\n",
    "SKI_RESORT = 'Tignes'\n",
    "CAP = 5\n",
    "FLOOR = 0\n",
    "\n",
    "# Data preparation\n",
    "dailyDataframe = finalMeasurements.loc[\n",
    "    finalMeasurements.numer_sta == int(stations.loc[stations.Nom == SKI_RESORT]['ID'])]\n",
    "dailyDataframe = dailyDataframe[dailyDataframe[TARGET_KEY] != 'mq']  # Remove missing values\n",
    "\n",
    "dailyDataframe['date'] = pandas.to_datetime(dailyDataframe['date'])\n",
    "dailyDataframe[TARGET_KEY] = pandas.to_numeric(dailyDataframe[TARGET_KEY], errors='ignore')\n",
    "\n",
    "# Detect start and end date of measurements every ski seasons\n",
    "years = dailyDataframe['date'].dt.year.unique()\n",
    "minMaxMeasurementDate = []\n",
    "for year in sorted(years[:-1]):\n",
    "    minMaxMeasurementDate.append((dailyDataframe[dailyDataframe['date'] > f'{year}-09-01']['date'].min(),\n",
    "                                  dailyDataframe[dailyDataframe['date'] < f'{year + 1}-06-01']['date'].max()))\n",
    "\n",
    "# Interpolate missing values within the season\n",
    "dailyDataframe = dailyDataframe.set_index('date').resample('D').mean().interpolate()\n",
    "\n",
    "# Fill with 0 when outside measurement range\n",
    "dailyDataframe.reset_index(drop=False, inplace=True)\n",
    "for index in range(1, len(minMaxMeasurementDate)):\n",
    "    dailyDataframe.loc[\n",
    "        ((minMaxMeasurementDate[index][0] > dailyDataframe.date) & (\n",
    "                    dailyDataframe.date > minMaxMeasurementDate[index - 1][1])), TARGET_KEY] = 0\n",
    "\n",
    "dailyDataframe = dailyDataframe[['date', TARGET_KEY]]\n",
    "dailyDataframe = dailyDataframe.rename(columns={'date': 'ds', TARGET_KEY: 'y'})\n",
    "\n",
    "# Model fitting and forecasting\n",
    "df0 = dailyDataframe.copy()\n",
    "dailyDataframe = dailyDataframe[:-365]\n",
    "prophetModelDataframe = Prophet(growth='logistic', daily_seasonality=False, weekly_seasonality=False)\n",
    "dailyDataframe['cap'] = CAP\n",
    "dailyDataframe['floor'] = FLOOR\n",
    "prophetModelDataframe.fit(dailyDataframe)\n",
    "forecastedDataframe = prophetModelDataframe.make_future_dataframe(periods=1825)\n",
    "forecastedDataframe['cap'] = CAP\n",
    "forecastedDataframe['floor'] = FLOOR\n",
    "forecastedDataframe = prophetModelDataframe.predict(forecastedDataframe)\n",
    "\n",
    "# Results visualisation\n",
    "trace = go.Scatter(\n",
    "    name='Observed Snow Depth (used for training the model)',\n",
    "    mode='markers',\n",
    "    x=list(forecastedDataframe['ds']),\n",
    "    y=list(dailyDataframe['y']),\n",
    "    marker=dict(\n",
    "        color='#FFBAD2',\n",
    "        line=dict(width=1)\n",
    "    )\n",
    ")\n",
    "\n",
    "trace1 = go.Scatter(\n",
    "    name='trend',\n",
    "    mode='lines',\n",
    "    x=list(forecastedDataframe['ds']),\n",
    "    y=list(forecastedDataframe['yhat']),\n",
    "    marker=dict(\n",
    "        color='red',\n",
    "        line=dict(width=3)\n",
    "    )\n",
    ")\n",
    "\n",
    "upper_band = go.Scatter(\n",
    "    name='upper band',\n",
    "    mode='lines',\n",
    "    x=list(forecastedDataframe['ds']),\n",
    "    y=list(forecastedDataframe['yhat_upper']),\n",
    "    line=dict(color='#57b88f'),\n",
    "    fill='tonexty'\n",
    ")\n",
    "\n",
    "lower_band = go.Scatter(\n",
    "    name='lower band',\n",
    "    mode='lines',\n",
    "    x=list(forecastedDataframe['ds']),\n",
    "    y=list(forecastedDataframe['yhat_lower']),\n",
    "    line=dict(color='#1705ff')\n",
    ")\n",
    "\n",
    "tracex = go.Scatter(\n",
    "    name='Observed Snow Depth (not used for training the model)',\n",
    "    mode='markers',\n",
    "    x=list(df0['ds']),\n",
    "    y=list(df0['y']),\n",
    "    marker=dict(\n",
    "        color='black',\n",
    "        line=dict(width=2)\n",
    "    )\n",
    ")\n",
    "\n",
    "data = [tracex, trace1, lower_band, upper_band, trace]\n",
    "\n",
    "layout = dict(title=f'Snow Depth Forecasting Using Prophet for {SKI_RESORT}',\n",
    "              xaxis=dict(title='Dates', ticklen=2, zeroline=True))\n",
    "\n",
    "figure = dict(data=data, layout=layout)\n",
    "py.offline.iplot(figure)"
   ]
  },
  {
   "cell_type": "markdown",
   "metadata": {
    "pycharm": {
     "name": "#%% md\n"
    }
   },
   "source": [
    "From the above plot of forecast, we can see that the forecast follows the local trend of actual values. Moreover, it can be observed that the trend remains constant from 2011 to 2018 and then decreases till 2018. Finally, it is worth noting that the lower band should be capped at 0 since it is not possible to have a negative snow depth.\n",
    "\n",
    "## Using the Forecast to Predict Ski Season Length\n",
    "For a ski resort, it could be interesting to know the length of the ski season (the number of day it will be possible to ski thanks to snow depth). if we suppose than it needs more than 0.3 meter of snow to ski then it is easy to compute start date, end date and length of the yearly ski seasons."
   ]
  },
  {
   "cell_type": "code",
   "execution_count": null,
   "metadata": {
    "pycharm": {
     "name": "#%%\n",
     "is_executing": true
    }
   },
   "outputs": [],
   "source": [
    "SNOW_DEPTH_THRESHOLD = 0.3\n",
    "skiDayDataframe = forecastedDataframe[['ds', 'yhat']]\n",
    "skiDayDataframe = skiDayDataframe[skiDayDataframe['yhat'] > SNOW_DEPTH_THRESHOLD]\n",
    "years = skiDayDataframe['ds'].dt.year.unique()\n",
    "for year in years[:-1]:\n",
    "    startDate = skiDayDataframe[skiDayDataframe['ds'] > f'{year}-09-01']['ds'].min()\n",
    "    endDate = skiDayDataframe[skiDayDataframe['ds'] < f'{year + 1}-06-01']['ds'].max()\n",
    "    print(\n",
    "        f'Season {year}/{year + 1}: Start date: {startDate.year}-{startDate.month}-{startDate.day}, End date: {endDate.year}-{endDate.month}-{endDate.day}, Season length: {(endDate - startDate).days} days')"
   ]
  }
 ],
 "metadata": {
  "kernelspec": {
   "display_name": "Python 3 (ipykernel)",
   "language": "python",
   "name": "python3"
  },
  "language_info": {
   "codemirror_mode": {
    "name": "ipython",
    "version": 3
   },
   "file_extension": ".py",
   "mimetype": "text/x-python",
   "name": "python",
   "nbconvert_exporter": "python",
   "pygments_lexer": "ipython3",
   "version": "3.8.16"
  },
  "pycharm": {
   "stem_cell": {
    "cell_type": "raw",
    "metadata": {
     "collapsed": false
    },
    "source": []
   }
  }
 },
 "nbformat": 4,
 "nbformat_minor": 2
}